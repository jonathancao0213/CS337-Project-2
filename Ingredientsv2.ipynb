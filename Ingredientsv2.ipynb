{
 "cells": [
  {
   "cell_type": "code",
   "execution_count": 1,
   "id": "retained-kingdom",
   "metadata": {},
   "outputs": [],
   "source": [
    "import requests\n",
    "import bs4\n",
    "from bs4 import BeautifulSoup as soup\n",
    "import json\n",
    "import spacy\n",
    "from spacy.matcher import Matcher\n",
    "from spacy.tokens import Span\n",
    "import en_core_web_sm\n",
    "nlp = spacy.load('en_core_web_sm')\n",
    "from string import punctuation"
   ]
  },
  {
   "cell_type": "code",
   "execution_count": 56,
   "id": "extensive-england",
   "metadata": {},
   "outputs": [],
   "source": [
    "pattern = [{\"DEP\":'nummod'}, {\"DEP\":{\"IN\":['compound','nsubjpass','amod','npadvmod']}, \"OP\":'?'}, {\"POS\":\"ADJ\", \"OP\":\"?\"}, {\"DEP\":{\"IN\":['ROOT', 'nsubj']},\"OP\":'*'}, {\"POS\":{\"IN\":[\"NOUN\", \"PROPN\"]}, \"OP\":'+'}]\n",
    "matcher = Matcher(nlp.vocab)\n",
    "matcher.add('ingredient', [pattern])"
   ]
  },
  {
   "cell_type": "code",
   "execution_count": 2,
   "id": "nuclear-shipping",
   "metadata": {},
   "outputs": [],
   "source": [
    "def findMethod(step):\n",
    "    doc = nlp(step)\n",
    "    methods = []\n",
    "    for entity in doc:\n",
    "        if entity.pos_ == \"VERB\":\n",
    "            methods.append(entity)\n",
    "\n",
    "    return methods"
   ]
  },
  {
   "cell_type": "code",
   "execution_count": 8,
   "id": "substantial-toddler",
   "metadata": {},
   "outputs": [
    {
     "data": {
      "text/plain": [
       "[mix]"
      ]
     },
     "execution_count": 8,
     "metadata": {},
     "output_type": "execute_result"
    }
   ],
   "source": [
    "# m = findMethod(\"In a medium bowl, mix together cookie crumbs, 3 tablespoons sugar, and melted butter\")\n",
    "doc = nlp(\"In a medium bowl, mix together cookie crumbs, 3 tablespoons sugar, and melted butter\")\n",
    "methods = []\n",
    "for entity in doc:\n",
    "    if entity.pos_ == \"VERB\":\n",
    "        methods.append(entity)\n",
    "methods"
   ]
  },
  {
   "cell_type": "code",
   "execution_count": 3,
   "id": "mathematical-heating",
   "metadata": {},
   "outputs": [
    {
     "name": "stdout",
     "output_type": "stream",
     "text": [
      "[mix]\n"
     ]
    }
   ],
   "source": [
    "m = findMethod(\"In a medium bowl, mix together cookie crumbs, 3 tablespoons sugar, and melted butter\")\n",
    "print(m)"
   ]
  },
  {
   "cell_type": "code",
   "execution_count": 9,
   "id": "dying-vietnamese",
   "metadata": {},
   "outputs": [
    {
     "name": "stdout",
     "output_type": "stream",
     "text": [
      "bake VERB ROOT bake\n",
      "for ADP prep for\n",
      "10 NUM nummod 10\n",
      "seconds NOUN pobj second\n"
     ]
    }
   ],
   "source": [
    "text = 'bake for 10 seconds'.replace('(','').replace(')','')\n",
    "\n",
    "doc = nlp(text)\n",
    "for entity in doc:\n",
    "    print(entity.text, entity.pos_,entity.dep_,entity.lemma_)\n"
   ]
  },
  {
   "cell_type": "code",
   "execution_count": 66,
   "id": "objective-sperm",
   "metadata": {},
   "outputs": [
    {
     "data": {
      "text/plain": [
       "10 ounce package frozen raspberries"
      ]
     },
     "execution_count": 66,
     "metadata": {},
     "output_type": "execute_result"
    }
   ],
   "source": [
    "span = doc[match[-1][1]:match[-1][2]]\n",
    "match[-1]\n",
    "doc[match[-1][1]:match[-1][2]]"
   ]
  },
  {
   "cell_type": "code",
   "execution_count": 9,
   "id": "focused-musical",
   "metadata": {},
   "outputs": [
    {
     "name": "stdout",
     "output_type": "stream",
     "text": [
      "3 NUM nummod 3\n",
      "ears NOUN nsubjpass ear\n",
      "corn NOUN nsubj corn\n",
      ", PUNCT punct ,\n",
      "husks NOUN conj husk\n",
      "and CCONJ cc and\n",
      "silk NOUN conj silk\n",
      "removed VERB ROOT remove\n"
     ]
    }
   ],
   "source": [
    "doc = nlp(\"3 ears corn, husks and silk removed\")\n",
    "for entity in doc:\n",
    "    print(entity.text, entity.pos_,entity.dep_,entity.lemma_)"
   ]
  },
  {
   "cell_type": "code",
   "execution_count": 13,
   "id": "accomplished-definition",
   "metadata": {},
   "outputs": [
    {
     "name": "stdout",
     "output_type": "stream",
     "text": [
      "1 NUM nummod 1\n",
      "apple PROPN ROOT apple\n"
     ]
    }
   ],
   "source": [
    "doc = nlp(\"1 apple\")\n",
    "for entity in doc:\n",
    "    print(entity.text, entity.pos_,entity.dep_,entity.lemma_)"
   ]
  }
 ],
 "metadata": {
  "kernelspec": {
   "display_name": "Python 3",
   "language": "python",
   "name": "python3"
  },
  "language_info": {
   "codemirror_mode": {
    "name": "ipython",
    "version": 3
   },
   "file_extension": ".py",
   "mimetype": "text/x-python",
   "name": "python",
   "nbconvert_exporter": "python",
   "pygments_lexer": "ipython3",
   "version": "3.8.5"
  }
 },
 "nbformat": 4,
 "nbformat_minor": 5
}
