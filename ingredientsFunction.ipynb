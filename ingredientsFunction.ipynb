{
 "cells": [
  {
   "cell_type": "code",
   "execution_count": 1,
   "metadata": {},
   "outputs": [],
   "source": [
    "import requests\n",
    "import bs4\n",
    "from bs4 import BeautifulSoup as soup\n",
    "import json\n",
    "import pandas as pd\n",
    "from pandas import DataFrame\n",
    "\n",
    "import spacy\n",
    "from spacy import displacy\n",
    "from spacy.matcher import Matcher\n",
    "from spacy.tokens import Span\n",
    "nlp = spacy.load('en_core_web_sm')\n",
    "from string import punctuation\n",
    "\n",
    "def get_ld_json(url: str) -> dict:\n",
    "    parser = \"html.parser\"\n",
    "    req = requests.get(url)\n",
    "    page = soup(req.text, parser)\n",
    "    return json.loads(\"\".join(page.find(\"script\", {\"type\":\"application/ld+json\"}).contents))\n",
    "\n",
    "url1 = \"https://www.allrecipes.com/recipe/232549\"\n",
    "url2 = \"https://www.allrecipes.com/recipe/267555/\"\n",
    "url3 = \"https://www.allrecipes.com/recipe/78299/\"\n",
    "url4 = \"https://www.allrecipes.com/recipe/13062/\"\n",
    "\n",
    "def get_ingredientScript(url):\n",
    "    jsonld = get_ld_json(url)\n",
    "    useful = jsonld[1]\n",
    "    ingredients = useful[\"recipeIngredient\"]\n",
    "    return ingredients"
   ]
  },
  {
   "cell_type": "code",
   "execution_count": 26,
   "metadata": {},
   "outputs": [
    {
     "name": "stdout",
     "output_type": "stream",
     "text": [
      "0                           ¼ cup butter\n",
      "1      ½ small white onion, finely diced\n",
      "2               3 small zucchinis, diced\n",
      "3    3 ears corn, husks and silk removed\n",
      "Name: ingredients, dtype: object\n"
     ]
    },
    {
     "data": {
      "text/plain": [
       "[['¼', 0, 'butter', 0],\n",
       " ['½', 0, 'onion', 0],\n",
       " ['3', 0, 'zucchinis', 0],\n",
       " ['3', 0, 'removed', 0]]"
      ]
     },
     "execution_count": 26,
     "metadata": {},
     "output_type": "execute_result"
    }
   ],
   "source": [
    "def parse_ingredients(url):\n",
    "    ingredients = get_ingredientScript(url)\n",
    "    df = DataFrame (ingredients,columns=['ingredients'])\n",
    "    # 2 cases\n",
    "    # \"number\" (\"()\") (\"unit\") (adjective) \"noun/subject - ingredient\" (, other)\n",
    "    # contains \"to taste\"\n",
    "    df = df[\"ingredients\"]\n",
    "    df_taste = df[df.str.contains('to taste', case = False)]\n",
    "    \n",
    "    df_unit = df[~df.str.contains('to taste', case = False)]\n",
    "    print(df_unit)\n",
    "    \n",
    "    \n",
    "    # array of arrays: each array is amount, unit, ingredient, other\n",
    "    ingredients_parsed = []\n",
    "    \n",
    "    # before we look at POS, remove everything after the comma and put it in other\n",
    "    for i in df_unit:\n",
    "        doc = nlp(i)\n",
    "        curr_arr = [0, 0, 0, 0]\n",
    "        for token in doc:\n",
    "            #print(token.text, token.pos_, token.tag_, token.dep_, token.shape_, token.is_alpha, token.is_stop)\n",
    "            found_num = False\n",
    "            # only get first number if it matches criteria\n",
    "            if found_num == False and token.pos_ == \"NOUN\" and not token.is_alpha or token.pos_ == \"NUM\":\n",
    "                curr_arr[0] = token.text\n",
    "                found_num = True\n",
    "            if token.dep_ == \"ROOT\":\n",
    "                curr_arr[2] = token.text\n",
    "                \n",
    "            \n",
    "        ingredients_parsed.append(curr_arr)\n",
    "#             print(token.text, token.pos_, token.tag_, token.dep_,\n",
    "#                 token.shape_, token.is_alpha, token.is_stop)\n",
    "        #displacy.render(doc, style=\"dep\") # change to serve when we go to python\n",
    "    \n",
    "    return ingredients_parsed\n",
    "\n",
    "parse_ingredients(url1)"
   ]
  },
  {
   "cell_type": "code",
   "execution_count": null,
   "metadata": {},
   "outputs": [],
   "source": []
  }
 ],
 "metadata": {
  "kernelspec": {
   "display_name": "Python 3",
   "language": "python",
   "name": "python3"
  },
  "language_info": {
   "codemirror_mode": {
    "name": "ipython",
    "version": 3
   },
   "file_extension": ".py",
   "mimetype": "text/x-python",
   "name": "python",
   "nbconvert_exporter": "python",
   "pygments_lexer": "ipython3",
   "version": "3.8.3"
  }
 },
 "nbformat": 4,
 "nbformat_minor": 4
}
