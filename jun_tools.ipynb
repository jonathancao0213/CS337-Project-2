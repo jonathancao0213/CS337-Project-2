{
 "cells": [
  {
   "cell_type": "code",
   "execution_count": 77,
   "id": "protective-helen",
   "metadata": {},
   "outputs": [],
   "source": [
    "import requests\n",
    "import bs4\n",
    "from bs4 import BeautifulSoup as soup\n",
    "import json\n",
    "import pandas\n",
    "from pandas import DataFrame\n",
    "import spacy\n",
    "from spacy.matcher import Matcher\n",
    "from spacy.tokens import Span\n",
    "from spacy import displacy\n",
    "from collections import defaultdict\n",
    "nlp = spacy.load('en_core_web_md')\n",
    "from string import punctuation\n",
    "import itertools"
   ]
  },
  {
   "cell_type": "code",
   "execution_count": 78,
   "id": "aboriginal-agent",
   "metadata": {},
   "outputs": [],
   "source": [
    "from collections import defaultdict"
   ]
  },
  {
   "cell_type": "code",
   "execution_count": 79,
   "id": "explicit-arrow",
   "metadata": {},
   "outputs": [],
   "source": [
    "def get_ld_json(url: str) -> dict:\n",
    "    parser = \"html.parser\"\n",
    "    req = requests.get(url)\n",
    "    page = soup(req.text, parser)\n",
    "    return json.loads(\"\".join(page.find(\"script\", {\"type\":\"application/ld+json\"}).contents))\n",
    "def get_ingredientScript(url):\n",
    "    jsonld = get_ld_json(url)\n",
    "    useful = jsonld[1]\n",
    "    ingredients = useful[\"recipeIngredient\"]\n",
    "    return ingredients\n",
    "def parse_ingredients(url):\n",
    "    ingredients = get_ingredientScript(url)\n",
    "    df = DataFrame (ingredients,columns=['ingredients'])\n",
    "    # 2 cases\n",
    "    # \"number\" (\"()\") (\"unit\") (adjective) \"noun/subject - ingredient\" (, other)\n",
    "    # contains \"to taste\"\n",
    "    df = df[\"ingredients\"]\n",
    "    df_taste = df[df.str.contains('to taste', case = False)]\n",
    "    \n",
    "    df_unit = df[~df.str.contains('to taste', case = False)]\n",
    "    \n",
    "    # array of arrays: each array is amount, unit, ingredient, descriptor, preparation\n",
    "    ingredients_parsed = []\n",
    "    \n",
    "    for i in df:\n",
    "        curr_arr = [\"\", \"\", \"\", \"\", \"\"]\n",
    "        print(i)\n",
    "        if 'to taste' not in i:\n",
    "        \n",
    "            # before we look at POS, remove everything after the comma and put it in prep\n",
    "            split_string = i.split(\", \", 1)\n",
    "            root_phrase = split_string[0]\n",
    "            if len(split_string) > 1:\n",
    "                other_piece = split_string[1]\n",
    "            else:\n",
    "                other_piece = \"\"\n",
    "\n",
    "            curr_arr[4] = other_piece\n",
    "\n",
    "            split_string2 = root_phrase.split(\"(\", 1)\n",
    "            if len(split_string2) > 1:\n",
    "                split_string3 = split_string2[1].split(\")\", 1)\n",
    "                curr_arr[3] = split_string3[0]\n",
    "                root_phrase = split_string2[0].strip() + split_string3[1]\n",
    "            doc = nlp(root_phrase)\n",
    "            index = 0\n",
    "            for token in doc:\n",
    "                found_num = False\n",
    "                # only get first number if it matches criteria\n",
    "                #if found_num == False and token.pos_ == \"NOUN\" and not token.is_alpha or token.pos_ == \"NUM\":\n",
    "                if index == 0:\n",
    "                    curr_arr[0] = token.text\n",
    "                elif index == 1:\n",
    "                    if token.pos_ != \"ADJ\":\n",
    "                        curr_arr[1] = token.text\n",
    "                    else:\n",
    "                        curr_arr[3] = token.text\n",
    "                elif token.dep_ == \"ROOT\":\n",
    "                    curr_arr[2] = token.text\n",
    "                else: \n",
    "                    curr_arr[3] = curr_arr[3] + \" \" + token.text\n",
    "                    curr_arr[3] = curr_arr[3].strip()\n",
    "                index+=1\n",
    "        else:\n",
    "            i = i.replace(\"to taste\", \"\")\n",
    "            doc = nlp(i)\n",
    "            curr_arr[0] = \"to taste\"\n",
    "            for token in doc:\n",
    "                if token.dep_ == \"ROOT\":\n",
    "                    curr_arr[2] = token.text\n",
    "                else:\n",
    "                    curr_arr[3] = curr_arr[3] + \" \" + token.text\n",
    "                    curr_arr[3] = curr_arr[3].strip()\n",
    "        ingredients_parsed.append(curr_arr)\n",
    "        #print(token.text, token.pos_, token.tag_, token.dep_, token.shape_, token.is_alpha, token.is_stop, token.children, token.head)\n",
    "        #displacy.render(doc, style=\"dep\") # change to serve when we go to python\n",
    "\n",
    "\n",
    "    \n",
    "    return ingredients_parsed"
   ]
  },
  {
   "cell_type": "code",
   "execution_count": 80,
   "id": "ecological-upper",
   "metadata": {},
   "outputs": [],
   "source": [
    "url1 = \"https://www.allrecipes.com/recipe/232550\""
   ]
  },
  {
   "cell_type": "code",
   "execution_count": 81,
   "id": "palestinian-frequency",
   "metadata": {},
   "outputs": [
    {
     "name": "stdout",
     "output_type": "stream",
     "text": [
      "[{'@context': 'http://schema.org', '@type': 'BreadcrumbList', 'itemListElement': [{'@type': 'ListItem', 'position': 1, 'item': {'@id': 'https://www.allrecipes.com/', 'name': 'Home', 'image': None}}, {'@type': 'ListItem', 'position': 2, 'item': {'@id': 'https://www.allrecipes.com/recipes/', 'name': 'Recipes', 'image': None}}, {'@type': 'ListItem', 'position': 3, 'item': {'@id': 'https://www.allrecipes.com/recipes/78/breakfast-and-brunch/', 'name': 'Breakfast and Brunch Recipes', 'image': None}}, {'@type': 'ListItem', 'position': 4, 'item': {'@id': 'https://www.allrecipes.com/recipes/1304/breakfast-and-brunch/breakfast-bread/', 'name': 'Breakfast Bread Recipes', 'image': None}}]}, {'@context': 'http://schema.org', '@type': 'Recipe', 'mainEntityOfPage': 'https://www.allrecipes.com/recipe/232550/pumpkin-sweet-potato-bread/', 'name': 'Pumpkin Sweet Potato Bread', 'image': {'@type': 'ImageObject', 'url': 'https://imagesvc.meredithcorp.io/v3/mm/image?url=https%3A%2F%2Fimages.media-allrecipes.com%2Fuserphotos%2F7381905.jpg', 'width': 0, 'height': 0}, 'datePublished': '2019-04-04T03:55:15.000Z', 'description': \"I didn't have an extra pie crust. I had leftover pumpkin and sweet potato pie filling. I didn't want to throw it out, so I decided to experiment with it. It turned out better than expected. I'm sure it will work using either pumpkin or sweet potato pie filling. Can add nuts, raisins, etc. if desired.\", 'prepTime': 'P0DT0H20M', 'cookTime': 'P0DT1H0M', 'totalTime': 'P0DT1H20M', 'recipeYield': '2 loaves', 'recipeIngredient': ['1 cup pumpkin pie filling', '1 cup sweet potato pie filling', '½ cup water', '½ cup vegetable oil', '3 cups all-purpose flour', '1 teaspoon baking soda', '1 teaspoon baking powder'], 'recipeInstructions': [{'@type': 'HowToStep', 'text': 'Preheat oven to 325 degrees F (165 degrees C). Grease 2 loaf pans.\\n'}, {'@type': 'HowToStep', 'text': 'Mix pumpkin pie filling, sweet potato pie filling, water, and oil together in a bowl; add flour, baking soda, and baking powder. Stir well. Pour mixture into the prepared loaf pans.\\n'}, {'@type': 'HowToStep', 'text': 'Bake in the preheated oven until a knife inserted into each loaf comes out clean, about 1 hour.\\n'}], 'recipeCategory': ['Breakfast and Brunch Recipes', 'Breakfast Bread Recipes'], 'recipeCuisine': [], 'author': [{'@type': 'Person', 'name': 'BusyMom'}], 'aggregateRating': {'@type': 'AggregateRating', 'ratingValue': 3.3333333333333335, 'ratingCount': 3, 'itemReviewed': 'Pumpkin Sweet Potato Bread', 'bestRating': '5', 'worstRating': '1'}, 'nutrition': {'@type': 'NutritionInformation', 'calories': '234.6 calories', 'carbohydrateContent': '33.9 g', 'cholesterolContent': None, 'fatContent': '9.5 g', 'fiberContent': '3.2 g', 'proteinContent': '3.7 g', 'saturatedFatContent': '1.5 g', 'servingSize': None, 'sodiumContent': '201.6 mg', 'sugarContent': '2.6 g', 'transFatContent': None, 'unsaturatedFatContent': None}, 'review': [{'@type': 'Review', 'datePublished': '2015-11-25T10:54:14.833Z', 'reviewBody': 'I made just using what was left from making my pumpkin pies no sweet potatoes. I thought it was good. I just wished you would had included a picture.', 'reviewRating': {'@type': 'Rating', 'worstRating': '1', 'bestRating': '5', 'ratingValue': 4}, 'author': {'@type': 'Person', 'name': 'cooker', 'image': None, 'sameAs': 'https://www.allrecipes.com/cook/16854648/'}}, {'@type': 'Review', 'datePublished': '2019-11-29T08:03:53.607Z', 'reviewBody': 'I only use sweet potato pie filling and it came out great! I tweaked the recipe a little to use half of the oil baking powder soda etc....', 'reviewRating': {'@type': 'Rating', 'worstRating': '1', 'bestRating': '5', 'ratingValue': 4}, 'author': {'@type': 'Person', 'name': 'Rashida Parson', 'image': None, 'sameAs': 'https://www.allrecipes.com/cook/26583649/'}}, {'@type': 'Review', 'datePublished': '2019-01-27T06:28:34.653Z', 'reviewBody': 'I thought it turned out a bit flavorless. The bread baked well but even with some additions the bread was bland. I plan to make it again because I have another can of pie filling but with some adjustments.', 'reviewRating': {'@type': 'Rating', 'worstRating': '1', 'bestRating': '5', 'ratingValue': 2}, 'author': {'@type': 'Person', 'name': 'dkw1983', 'image': None, 'sameAs': 'https://www.allrecipes.com/cook/15392171/'}}]}]\n"
     ]
    }
   ],
   "source": [
    "json_ld = get_ld_json(url1)\n",
    "print(json_ld)"
   ]
  },
  {
   "cell_type": "code",
   "execution_count": 82,
   "id": "sonic-sandwich",
   "metadata": {},
   "outputs": [
    {
     "name": "stdout",
     "output_type": "stream",
     "text": [
      "1 cup pumpkin pie filling\n",
      "1 cup sweet potato pie filling\n",
      "½ cup water\n",
      "½ cup vegetable oil\n",
      "3 cups all-purpose flour\n",
      "1 teaspoon baking soda\n",
      "1 teaspoon baking powder\n",
      "[['1', 'cup', 'filling', 'pumpkin pie', ''], ['1', 'cup', 'filling', 'sweet potato pie', ''], ['½', 'cup', 'water', '', ''], ['½', 'cup', '', 'vegetable oil', ''], ['3', 'cups', '', 'all - purpose flour', ''], ['1', 'teaspoon', 'soda', 'baking', ''], ['1', 'teaspoon', 'powder', 'baking', '']]\n"
     ]
    }
   ],
   "source": [
    "ing = parse_ingredients(url1)\n",
    "print(ing)"
   ]
  },
  {
   "cell_type": "code",
   "execution_count": 83,
   "id": "liberal-spelling",
   "metadata": {},
   "outputs": [
    {
     "name": "stdout",
     "output_type": "stream",
     "text": [
      "['1', 'cup', 'filling', 'pumpkin', 'pie', 'sweet', 'potato', 'pie', '½', 'water', 'vegetable', 'oil', '3', 'cups', 'all', '-', 'purpose', 'flour', 'teaspoon', 'soda', 'baking', 'powder']\n"
     ]
    },
    {
     "ename": "NameError",
     "evalue": "name 'quanti' is not defined",
     "output_type": "error",
     "traceback": [
      "\u001b[1;31m---------------------------------------------------------------------------\u001b[0m",
      "\u001b[1;31mNameError\u001b[0m                                 Traceback (most recent call last)",
      "\u001b[1;32m<ipython-input-83-a3f85487eda6>\u001b[0m in \u001b[0;36m<module>\u001b[1;34m\u001b[0m\n\u001b[0;32m      6\u001b[0m         \u001b[0mnew\u001b[0m\u001b[1;33m.\u001b[0m\u001b[0mappend\u001b[0m\u001b[1;33m(\u001b[0m\u001b[0mword\u001b[0m\u001b[1;33m)\u001b[0m\u001b[1;33m\u001b[0m\u001b[1;33m\u001b[0m\u001b[0m\n\u001b[0;32m      7\u001b[0m \u001b[0mprint\u001b[0m\u001b[1;33m(\u001b[0m\u001b[0mnew\u001b[0m\u001b[1;33m)\u001b[0m\u001b[1;33m\u001b[0m\u001b[1;33m\u001b[0m\u001b[0m\n\u001b[1;32m----> 8\u001b[1;33m \u001b[0mquanti\u001b[0m\u001b[1;33m\u001b[0m\u001b[1;33m\u001b[0m\u001b[0m\n\u001b[0m",
      "\u001b[1;31mNameError\u001b[0m: name 'quanti' is not defined"
     ]
    }
   ],
   "source": [
    "one_list = itertools.chain.from_iterable(ing)\n",
    "fil = list(dict.fromkeys(one_list))\n",
    "new = []\n",
    "for ing in fil:\n",
    "    for word in ing.split():\n",
    "        new.append(word)\n",
    "print(new)"
   ]
  },
  {
   "cell_type": "code",
   "execution_count": 84,
   "id": "employed-resolution",
   "metadata": {},
   "outputs": [
    {
     "name": "stdout",
     "output_type": "stream",
     "text": [
      "Preheat oven to 325 degrees F (165 degrees C). Grease 2 loaf pans.\n",
      "Mix pumpkin pie filling, sweet potato pie filling, water, and oil together in a bowl; add flour, baking soda, and baking powder. Stir well. Pour mixture into the prepared loaf pans.\n",
      "Bake in the preheated oven until a knife inserted into each loaf comes out clean, about 1 hour.\n",
      "\n"
     ]
    }
   ],
   "source": [
    "text = json_ld[1]['recipeInstructions']\n",
    "if len(text) > 1:\n",
    "    new_text = ''\n",
    "    for i,t in enumerate(text):\n",
    "#         print(text[i]['text'])\n",
    "        new_text = new_text + text[i]['text']\n",
    "    text = new_text\n",
    "else:\n",
    "    text = text[0]['text']\n",
    "print(text)"
   ]
  },
  {
   "cell_type": "code",
   "execution_count": 85,
   "id": "infectious-exposure",
   "metadata": {},
   "outputs": [
    {
     "name": "stdout",
     "output_type": "stream",
     "text": [
      "Pour VERB ROOT Pour VERB [mixture, into]\n",
      "mixture NOUN dobj Pour VERB []\n",
      "into ADP prep Pour VERB [pans]\n",
      "the DET det pans NOUN []\n",
      "prepared ADJ amod pans NOUN []\n",
      "loaf NOUN compound pans NOUN []\n",
      "pans NOUN pobj into ADP [the, prepared, loaf]\n"
     ]
    },
    {
     "data": {
      "text/html": [
       "<span class=\"tex2jax_ignore\"><svg xmlns=\"http://www.w3.org/2000/svg\" xmlns:xlink=\"http://www.w3.org/1999/xlink\" xml:lang=\"en\" id=\"912585a64cd644d3853d557398429870-0\" class=\"displacy\" width=\"1275\" height=\"487.0\" direction=\"ltr\" style=\"max-width: none; height: 487.0px; color: #000000; background: #ffffff; font-family: Arial; direction: ltr\">\n",
       "<text class=\"displacy-token\" fill=\"currentColor\" text-anchor=\"middle\" y=\"397.0\">\n",
       "    <tspan class=\"displacy-word\" fill=\"currentColor\" x=\"50\">Pour</tspan>\n",
       "    <tspan class=\"displacy-tag\" dy=\"2em\" fill=\"currentColor\" x=\"50\">VERB</tspan>\n",
       "</text>\n",
       "\n",
       "<text class=\"displacy-token\" fill=\"currentColor\" text-anchor=\"middle\" y=\"397.0\">\n",
       "    <tspan class=\"displacy-word\" fill=\"currentColor\" x=\"225\">mixture</tspan>\n",
       "    <tspan class=\"displacy-tag\" dy=\"2em\" fill=\"currentColor\" x=\"225\">NOUN</tspan>\n",
       "</text>\n",
       "\n",
       "<text class=\"displacy-token\" fill=\"currentColor\" text-anchor=\"middle\" y=\"397.0\">\n",
       "    <tspan class=\"displacy-word\" fill=\"currentColor\" x=\"400\">into</tspan>\n",
       "    <tspan class=\"displacy-tag\" dy=\"2em\" fill=\"currentColor\" x=\"400\">ADP</tspan>\n",
       "</text>\n",
       "\n",
       "<text class=\"displacy-token\" fill=\"currentColor\" text-anchor=\"middle\" y=\"397.0\">\n",
       "    <tspan class=\"displacy-word\" fill=\"currentColor\" x=\"575\">the</tspan>\n",
       "    <tspan class=\"displacy-tag\" dy=\"2em\" fill=\"currentColor\" x=\"575\">DET</tspan>\n",
       "</text>\n",
       "\n",
       "<text class=\"displacy-token\" fill=\"currentColor\" text-anchor=\"middle\" y=\"397.0\">\n",
       "    <tspan class=\"displacy-word\" fill=\"currentColor\" x=\"750\">prepared</tspan>\n",
       "    <tspan class=\"displacy-tag\" dy=\"2em\" fill=\"currentColor\" x=\"750\">ADJ</tspan>\n",
       "</text>\n",
       "\n",
       "<text class=\"displacy-token\" fill=\"currentColor\" text-anchor=\"middle\" y=\"397.0\">\n",
       "    <tspan class=\"displacy-word\" fill=\"currentColor\" x=\"925\">loaf</tspan>\n",
       "    <tspan class=\"displacy-tag\" dy=\"2em\" fill=\"currentColor\" x=\"925\">NOUN</tspan>\n",
       "</text>\n",
       "\n",
       "<text class=\"displacy-token\" fill=\"currentColor\" text-anchor=\"middle\" y=\"397.0\">\n",
       "    <tspan class=\"displacy-word\" fill=\"currentColor\" x=\"1100\">pans</tspan>\n",
       "    <tspan class=\"displacy-tag\" dy=\"2em\" fill=\"currentColor\" x=\"1100\">NOUN</tspan>\n",
       "</text>\n",
       "\n",
       "<g class=\"displacy-arrow\">\n",
       "    <path class=\"displacy-arc\" id=\"arrow-912585a64cd644d3853d557398429870-0-0\" stroke-width=\"2px\" d=\"M70,352.0 C70,264.5 210.0,264.5 210.0,352.0\" fill=\"none\" stroke=\"currentColor\"/>\n",
       "    <text dy=\"1.25em\" style=\"font-size: 0.8em; letter-spacing: 1px\">\n",
       "        <textPath xlink:href=\"#arrow-912585a64cd644d3853d557398429870-0-0\" class=\"displacy-label\" startOffset=\"50%\" side=\"left\" fill=\"currentColor\" text-anchor=\"middle\">dobj</textPath>\n",
       "    </text>\n",
       "    <path class=\"displacy-arrowhead\" d=\"M210.0,354.0 L218.0,342.0 202.0,342.0\" fill=\"currentColor\"/>\n",
       "</g>\n",
       "\n",
       "<g class=\"displacy-arrow\">\n",
       "    <path class=\"displacy-arc\" id=\"arrow-912585a64cd644d3853d557398429870-0-1\" stroke-width=\"2px\" d=\"M70,352.0 C70,177.0 390.0,177.0 390.0,352.0\" fill=\"none\" stroke=\"currentColor\"/>\n",
       "    <text dy=\"1.25em\" style=\"font-size: 0.8em; letter-spacing: 1px\">\n",
       "        <textPath xlink:href=\"#arrow-912585a64cd644d3853d557398429870-0-1\" class=\"displacy-label\" startOffset=\"50%\" side=\"left\" fill=\"currentColor\" text-anchor=\"middle\">prep</textPath>\n",
       "    </text>\n",
       "    <path class=\"displacy-arrowhead\" d=\"M390.0,354.0 L398.0,342.0 382.0,342.0\" fill=\"currentColor\"/>\n",
       "</g>\n",
       "\n",
       "<g class=\"displacy-arrow\">\n",
       "    <path class=\"displacy-arc\" id=\"arrow-912585a64cd644d3853d557398429870-0-2\" stroke-width=\"2px\" d=\"M595,352.0 C595,89.5 1095.0,89.5 1095.0,352.0\" fill=\"none\" stroke=\"currentColor\"/>\n",
       "    <text dy=\"1.25em\" style=\"font-size: 0.8em; letter-spacing: 1px\">\n",
       "        <textPath xlink:href=\"#arrow-912585a64cd644d3853d557398429870-0-2\" class=\"displacy-label\" startOffset=\"50%\" side=\"left\" fill=\"currentColor\" text-anchor=\"middle\">det</textPath>\n",
       "    </text>\n",
       "    <path class=\"displacy-arrowhead\" d=\"M595,354.0 L587,342.0 603,342.0\" fill=\"currentColor\"/>\n",
       "</g>\n",
       "\n",
       "<g class=\"displacy-arrow\">\n",
       "    <path class=\"displacy-arc\" id=\"arrow-912585a64cd644d3853d557398429870-0-3\" stroke-width=\"2px\" d=\"M770,352.0 C770,177.0 1090.0,177.0 1090.0,352.0\" fill=\"none\" stroke=\"currentColor\"/>\n",
       "    <text dy=\"1.25em\" style=\"font-size: 0.8em; letter-spacing: 1px\">\n",
       "        <textPath xlink:href=\"#arrow-912585a64cd644d3853d557398429870-0-3\" class=\"displacy-label\" startOffset=\"50%\" side=\"left\" fill=\"currentColor\" text-anchor=\"middle\">amod</textPath>\n",
       "    </text>\n",
       "    <path class=\"displacy-arrowhead\" d=\"M770,354.0 L762,342.0 778,342.0\" fill=\"currentColor\"/>\n",
       "</g>\n",
       "\n",
       "<g class=\"displacy-arrow\">\n",
       "    <path class=\"displacy-arc\" id=\"arrow-912585a64cd644d3853d557398429870-0-4\" stroke-width=\"2px\" d=\"M945,352.0 C945,264.5 1085.0,264.5 1085.0,352.0\" fill=\"none\" stroke=\"currentColor\"/>\n",
       "    <text dy=\"1.25em\" style=\"font-size: 0.8em; letter-spacing: 1px\">\n",
       "        <textPath xlink:href=\"#arrow-912585a64cd644d3853d557398429870-0-4\" class=\"displacy-label\" startOffset=\"50%\" side=\"left\" fill=\"currentColor\" text-anchor=\"middle\">compound</textPath>\n",
       "    </text>\n",
       "    <path class=\"displacy-arrowhead\" d=\"M945,354.0 L937,342.0 953,342.0\" fill=\"currentColor\"/>\n",
       "</g>\n",
       "\n",
       "<g class=\"displacy-arrow\">\n",
       "    <path class=\"displacy-arc\" id=\"arrow-912585a64cd644d3853d557398429870-0-5\" stroke-width=\"2px\" d=\"M420,352.0 C420,2.0 1100.0,2.0 1100.0,352.0\" fill=\"none\" stroke=\"currentColor\"/>\n",
       "    <text dy=\"1.25em\" style=\"font-size: 0.8em; letter-spacing: 1px\">\n",
       "        <textPath xlink:href=\"#arrow-912585a64cd644d3853d557398429870-0-5\" class=\"displacy-label\" startOffset=\"50%\" side=\"left\" fill=\"currentColor\" text-anchor=\"middle\">pobj</textPath>\n",
       "    </text>\n",
       "    <path class=\"displacy-arrowhead\" d=\"M1100.0,354.0 L1108.0,342.0 1092.0,342.0\" fill=\"currentColor\"/>\n",
       "</g>\n",
       "</svg></span>"
      ],
      "text/plain": [
       "<IPython.core.display.HTML object>"
      ]
     },
     "metadata": {},
     "output_type": "display_data"
    }
   ],
   "source": [
    "doc = nlp('Pour mixture into the prepared loaf pans')\n",
    "for token in doc:\n",
    "    print(token.text,token.pos_, token.dep_, token.head.text, token.head.pos_,\n",
    "            [child for child in token.children])\n",
    "displacy.render(doc, style=\"dep\")"
   ]
  },
  {
   "cell_type": "code",
   "execution_count": 86,
   "id": "acting-organ",
   "metadata": {},
   "outputs": [
    {
     "name": "stdout",
     "output_type": "stream",
     "text": [
      "mixture mixture dobj Pour\n",
      "the prepared loaf pans pans pobj into\n"
     ]
    }
   ],
   "source": [
    "for chunk in doc.noun_chunks:\n",
    "    print(chunk.text, chunk.root.text, chunk.root.dep_,\n",
    "            chunk.root.head.text)"
   ]
  },
  {
   "cell_type": "code",
   "execution_count": null,
   "id": "activated-merchant",
   "metadata": {},
   "outputs": [],
   "source": []
  },
  {
   "cell_type": "markdown",
   "id": "seeing-certification",
   "metadata": {},
   "source": [
    "### Thing that could be tools\n",
    "#### 1) pattern: lemma: 'in',   "
   ]
  },
  {
   "cell_type": "code",
   "execution_count": 87,
   "id": "frank-discipline",
   "metadata": {},
   "outputs": [],
   "source": [
    "def find_tool(sentence):\n",
    "    pattern = [{\"LEMMA\":{\"IN\":['in','with']}},{\"POS\":'DET'},{\"POS\":'NOUN', 'OP':'+'}]\n",
    "    # tool_pattern = [{\"POS\":'NOUN', 'OP':'+'}]\n",
    "    tools = []\n",
    "    matcher = Matcher(nlp.vocab)\n",
    "    matcher.add('find', [pattern])\n",
    "    doc = nlp(sentence)\n",
    "    matches = matcher(doc)\n",
    "    if len(matches) != 0:\n",
    "        span = doc[matches[-1][1]:matches[-1][2]]\n",
    "        for token in span:\n",
    "            if token.pos_ == 'NOUN':\n",
    "                tools.append(token)\n",
    "    return tools\n",
    "find_tool('Heat butter in a pan over medium heat')\n",
    "def find_tool2(sentence):\n",
    "    too =[]\n",
    "    not_tools = []\n",
    "    sent = nlp(sentence)\n",
    "    for chunk in sent.noun_chunks:\n",
    "        if chunk.root.text not in new:\n",
    "            too.append(chunk.root.text)\n",
    "    for token in sent:\n",
    "        if token.text not in too and token.pos_ == 'NOUN':\n",
    "            not_tools.append(token.text)\n",
    "    return too, not_tools\n",
    "        \n",
    "    "
   ]
  },
  {
   "cell_type": "code",
   "execution_count": 88,
   "id": "blessed-thompson",
   "metadata": {},
   "outputs": [
    {
     "name": "stdout",
     "output_type": "stream",
     "text": [
      "Preheat oven to 325 degrees F (165 degrees C).\n",
      "Preheat\n",
      "F\n",
      "C\n",
      "Grease 2 loaf pans.\n",
      "\n",
      "Grease\n",
      "pans\n",
      "Mix pumpkin pie filling, sweet potato pie filling, water, and oil together in a bowl; add flour, baking soda, and baking powder.\n",
      "bowl\n",
      "Stir well.\n",
      "Pour mixture into the prepared loaf pans.\n",
      "\n",
      "mixture\n",
      "pans\n",
      "Bake in the preheated oven until a knife inserted into each loaf comes out clean, about 1 hour.\n",
      "\n",
      "oven\n",
      "knife\n",
      "loaf\n",
      "['Preheat', 'F', 'C', 'Grease', 'pans', 'bowl', 'mixture', 'pans', 'oven', 'knife']\n"
     ]
    }
   ],
   "source": [
    "tools = []\n",
    "big_not_tools = {}\n",
    "\n",
    "for sentence in nlp(text).sents:\n",
    "    print(sentence)\n",
    "    t,nt = find_tool2(str(sentence))\n",
    "    for each in t:\n",
    "        print(each)\n",
    "        if each not in big_not_tools:\n",
    "            tools.append(each)\n",
    "    for word in nt:\n",
    "        big_not_tools[word] = 0\n",
    "print(tools)\n",
    "    \n",
    "    \n",
    "    "
   ]
  },
  {
   "cell_type": "code",
   "execution_count": null,
   "id": "likely-climb",
   "metadata": {},
   "outputs": [],
   "source": []
  }
 ],
 "metadata": {
  "kernelspec": {
   "display_name": "Python 3",
   "language": "python",
   "name": "python3"
  },
  "language_info": {
   "codemirror_mode": {
    "name": "ipython",
    "version": 3
   },
   "file_extension": ".py",
   "mimetype": "text/x-python",
   "name": "python",
   "nbconvert_exporter": "python",
   "pygments_lexer": "ipython3",
   "version": "3.8.5"
  }
 },
 "nbformat": 4,
 "nbformat_minor": 5
}
