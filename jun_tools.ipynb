{
 "cells": [
  {
   "cell_type": "code",
   "execution_count": 20,
   "id": "fresh-headline",
   "metadata": {},
   "outputs": [],
   "source": [
    "import requests\n",
    "import bs4\n",
    "from bs4 import BeautifulSoup as soup\n",
    "import json\n",
    "import pandas\n",
    "\n",
    "import spacy\n",
    "from spacy.matcher import Matcher\n",
    "from spacy.tokens import Span\n",
    "from spacy import displacy\n",
    "from collections import defaultdict\n",
    "nlp = spacy.load('en_core_web_md')\n",
    "from string import punctuation"
   ]
  },
  {
   "cell_type": "code",
   "execution_count": 21,
   "id": "small-carter",
   "metadata": {},
   "outputs": [],
   "source": [
    "def get_ld_json(url: str) -> dict:\n",
    "    parser = \"html.parser\"\n",
    "    req = requests.get(url)\n",
    "    page = soup(req.text, parser)\n",
    "    return json.loads(\"\".join(page.find(\"script\", {\"type\":\"application/ld+json\"}).contents))"
   ]
  },
  {
   "cell_type": "code",
   "execution_count": 46,
   "id": "strategic-carry",
   "metadata": {},
   "outputs": [],
   "source": [
    "url1 = \"https://www.allrecipes.com/recipe/232550\""
   ]
  },
  {
   "cell_type": "code",
   "execution_count": 47,
   "id": "suffering-screen",
   "metadata": {},
   "outputs": [
    {
     "name": "stdout",
     "output_type": "stream",
     "text": [
      "[{'@context': 'http://schema.org', '@type': 'BreadcrumbList', 'itemListElement': [{'@type': 'ListItem', 'position': 1, 'item': {'@id': 'https://www.allrecipes.com/', 'name': 'Home', 'image': None}}, {'@type': 'ListItem', 'position': 2, 'item': {'@id': 'https://www.allrecipes.com/recipes/', 'name': 'Recipes', 'image': None}}, {'@type': 'ListItem', 'position': 3, 'item': {'@id': 'https://www.allrecipes.com/recipes/78/breakfast-and-brunch/', 'name': 'Breakfast and Brunch Recipes', 'image': None}}, {'@type': 'ListItem', 'position': 4, 'item': {'@id': 'https://www.allrecipes.com/recipes/1304/breakfast-and-brunch/breakfast-bread/', 'name': 'Breakfast Bread Recipes', 'image': None}}]}, {'@context': 'http://schema.org', '@type': 'Recipe', 'mainEntityOfPage': 'https://www.allrecipes.com/recipe/232550/pumpkin-sweet-potato-bread/', 'name': 'Pumpkin Sweet Potato Bread', 'image': {'@type': 'ImageObject', 'url': 'https://imagesvc.meredithcorp.io/v3/mm/image?url=https%3A%2F%2Fimages.media-allrecipes.com%2Fuserphotos%2F7381905.jpg', 'width': 0, 'height': 0}, 'datePublished': '2019-04-04T03:55:15.000Z', 'description': \"I didn't have an extra pie crust. I had leftover pumpkin and sweet potato pie filling. I didn't want to throw it out, so I decided to experiment with it. It turned out better than expected. I'm sure it will work using either pumpkin or sweet potato pie filling. Can add nuts, raisins, etc. if desired.\", 'prepTime': 'P0DT0H20M', 'cookTime': 'P0DT1H0M', 'totalTime': 'P0DT1H20M', 'recipeYield': '2 loaves', 'recipeIngredient': ['1 cup pumpkin pie filling', '1 cup sweet potato pie filling', '½ cup water', '½ cup vegetable oil', '3 cups all-purpose flour', '1 teaspoon baking soda', '1 teaspoon baking powder'], 'recipeInstructions': [{'@type': 'HowToStep', 'text': 'Preheat oven to 325 degrees F (165 degrees C). Grease 2 loaf pans.\\n'}, {'@type': 'HowToStep', 'text': 'Mix pumpkin pie filling, sweet potato pie filling, water, and oil together in a bowl; add flour, baking soda, and baking powder. Stir well. Pour mixture into the prepared loaf pans.\\n'}, {'@type': 'HowToStep', 'text': 'Bake in the preheated oven until a knife inserted into each loaf comes out clean, about 1 hour.\\n'}], 'recipeCategory': ['Breakfast and Brunch Recipes', 'Breakfast Bread Recipes'], 'recipeCuisine': [], 'author': [{'@type': 'Person', 'name': 'BusyMom'}], 'aggregateRating': {'@type': 'AggregateRating', 'ratingValue': 3.3333333333333335, 'ratingCount': 3, 'itemReviewed': 'Pumpkin Sweet Potato Bread', 'bestRating': '5', 'worstRating': '1'}, 'nutrition': {'@type': 'NutritionInformation', 'calories': '234.6 calories', 'carbohydrateContent': '33.9 g', 'cholesterolContent': None, 'fatContent': '9.5 g', 'fiberContent': '3.2 g', 'proteinContent': '3.7 g', 'saturatedFatContent': '1.5 g', 'servingSize': None, 'sodiumContent': '201.6 mg', 'sugarContent': '2.6 g', 'transFatContent': None, 'unsaturatedFatContent': None}, 'review': [{'@type': 'Review', 'datePublished': '2015-11-25T10:54:14.833Z', 'reviewBody': 'I made just using what was left from making my pumpkin pies no sweet potatoes. I thought it was good. I just wished you would had included a picture.', 'reviewRating': {'@type': 'Rating', 'worstRating': '1', 'bestRating': '5', 'ratingValue': 4}, 'author': {'@type': 'Person', 'name': 'cooker', 'image': None, 'sameAs': 'https://www.allrecipes.com/cook/16854648/'}}, {'@type': 'Review', 'datePublished': '2019-11-29T08:03:53.607Z', 'reviewBody': 'I only use sweet potato pie filling and it came out great! I tweaked the recipe a little to use half of the oil baking powder soda etc....', 'reviewRating': {'@type': 'Rating', 'worstRating': '1', 'bestRating': '5', 'ratingValue': 4}, 'author': {'@type': 'Person', 'name': 'Rashida Parson', 'image': None, 'sameAs': 'https://www.allrecipes.com/cook/26583649/'}}, {'@type': 'Review', 'datePublished': '2019-01-27T06:28:34.653Z', 'reviewBody': 'I thought it turned out a bit flavorless. The bread baked well but even with some additions the bread was bland. I plan to make it again because I have another can of pie filling but with some adjustments.', 'reviewRating': {'@type': 'Rating', 'worstRating': '1', 'bestRating': '5', 'ratingValue': 2}, 'author': {'@type': 'Person', 'name': 'dkw1983', 'image': None, 'sameAs': 'https://www.allrecipes.com/cook/15392171/'}}]}]\n"
     ]
    }
   ],
   "source": [
    "json_ld = get_ld_json(url1)\n",
    "print(json_ld)"
   ]
  },
  {
   "cell_type": "code",
   "execution_count": 61,
   "id": "extensive-honor",
   "metadata": {},
   "outputs": [
    {
     "name": "stdout",
     "output_type": "stream",
     "text": [
      "Preheat oven to 325 degrees F (165 degrees C). Grease 2 loaf pans.\n",
      "Mix pumpkin pie filling, sweet potato pie filling, water, and oil together in a bowl; add flour, baking soda, and baking powder. Stir well. Pour mixture into the prepared loaf pans.\n",
      "Bake in the preheated oven until a knife inserted into each loaf comes out clean, about 1 hour.\n",
      "\n"
     ]
    }
   ],
   "source": [
    "text = json_ld[1]['recipeInstructions']\n",
    "if len(text) > 1:\n",
    "    new_text = ''\n",
    "    for i,t in enumerate(text):\n",
    "#         print(text[i]['text'])\n",
    "        new_text = new_text + text[i]['text']\n",
    "    text = new_text\n",
    "else:\n",
    "    text = text[0]['text']\n",
    "print(text)"
   ]
  },
  {
   "cell_type": "code",
   "execution_count": 74,
   "id": "fifty-suggestion",
   "metadata": {},
   "outputs": [
    {
     "name": "stdout",
     "output_type": "stream",
     "text": [
      "Preheat PROPN nsubj oven VERB []\n",
      "oven VERB ROOT oven VERB [Preheat, to, .]\n",
      "to ADP prep oven VERB [F]\n",
      "325 NUM nummod degrees NOUN []\n",
      "degrees NOUN compound F NOUN [325]\n",
      "F NOUN pobj to ADP [degrees, C, )]\n",
      "( PUNCT punct C NOUN []\n",
      "165 NUM nummod degrees NOUN []\n",
      "degrees NOUN compound C NOUN [165]\n",
      "C NOUN appos F NOUN [(, degrees]\n",
      ") PUNCT punct F NOUN []\n",
      ". PUNCT punct oven VERB []\n",
      "Grease NOUN ROOT Grease NOUN [pans]\n",
      "2 NUM nummod loaf NOUN []\n",
      "loaf NOUN compound pans NOUN [2]\n",
      "pans NOUN dobj Grease NOUN [loaf]\n"
     ]
    },
    {
     "data": {
      "text/html": [
       "<span class=\"tex2jax_ignore\"><svg xmlns=\"http://www.w3.org/2000/svg\" xmlns:xlink=\"http://www.w3.org/1999/xlink\" xml:lang=\"en\" id=\"6860ef25532446bc96932e7198c381a3-0\" class=\"displacy\" width=\"2325\" height=\"312.0\" direction=\"ltr\" style=\"max-width: none; height: 312.0px; color: #000000; background: #ffffff; font-family: Arial; direction: ltr\">\n",
       "<text class=\"displacy-token\" fill=\"currentColor\" text-anchor=\"middle\" y=\"222.0\">\n",
       "    <tspan class=\"displacy-word\" fill=\"currentColor\" x=\"50\">Preheat</tspan>\n",
       "    <tspan class=\"displacy-tag\" dy=\"2em\" fill=\"currentColor\" x=\"50\">PROPN</tspan>\n",
       "</text>\n",
       "\n",
       "<text class=\"displacy-token\" fill=\"currentColor\" text-anchor=\"middle\" y=\"222.0\">\n",
       "    <tspan class=\"displacy-word\" fill=\"currentColor\" x=\"225\">oven</tspan>\n",
       "    <tspan class=\"displacy-tag\" dy=\"2em\" fill=\"currentColor\" x=\"225\">VERB</tspan>\n",
       "</text>\n",
       "\n",
       "<text class=\"displacy-token\" fill=\"currentColor\" text-anchor=\"middle\" y=\"222.0\">\n",
       "    <tspan class=\"displacy-word\" fill=\"currentColor\" x=\"400\">to</tspan>\n",
       "    <tspan class=\"displacy-tag\" dy=\"2em\" fill=\"currentColor\" x=\"400\">ADP</tspan>\n",
       "</text>\n",
       "\n",
       "<text class=\"displacy-token\" fill=\"currentColor\" text-anchor=\"middle\" y=\"222.0\">\n",
       "    <tspan class=\"displacy-word\" fill=\"currentColor\" x=\"575\">325</tspan>\n",
       "    <tspan class=\"displacy-tag\" dy=\"2em\" fill=\"currentColor\" x=\"575\">NUM</tspan>\n",
       "</text>\n",
       "\n",
       "<text class=\"displacy-token\" fill=\"currentColor\" text-anchor=\"middle\" y=\"222.0\">\n",
       "    <tspan class=\"displacy-word\" fill=\"currentColor\" x=\"750\">degrees</tspan>\n",
       "    <tspan class=\"displacy-tag\" dy=\"2em\" fill=\"currentColor\" x=\"750\">NOUN</tspan>\n",
       "</text>\n",
       "\n",
       "<text class=\"displacy-token\" fill=\"currentColor\" text-anchor=\"middle\" y=\"222.0\">\n",
       "    <tspan class=\"displacy-word\" fill=\"currentColor\" x=\"925\">F (</tspan>\n",
       "    <tspan class=\"displacy-tag\" dy=\"2em\" fill=\"currentColor\" x=\"925\">NOUN</tspan>\n",
       "</text>\n",
       "\n",
       "<text class=\"displacy-token\" fill=\"currentColor\" text-anchor=\"middle\" y=\"222.0\">\n",
       "    <tspan class=\"displacy-word\" fill=\"currentColor\" x=\"1100\">165</tspan>\n",
       "    <tspan class=\"displacy-tag\" dy=\"2em\" fill=\"currentColor\" x=\"1100\">NUM</tspan>\n",
       "</text>\n",
       "\n",
       "<text class=\"displacy-token\" fill=\"currentColor\" text-anchor=\"middle\" y=\"222.0\">\n",
       "    <tspan class=\"displacy-word\" fill=\"currentColor\" x=\"1275\">degrees</tspan>\n",
       "    <tspan class=\"displacy-tag\" dy=\"2em\" fill=\"currentColor\" x=\"1275\">NOUN</tspan>\n",
       "</text>\n",
       "\n",
       "<text class=\"displacy-token\" fill=\"currentColor\" text-anchor=\"middle\" y=\"222.0\">\n",
       "    <tspan class=\"displacy-word\" fill=\"currentColor\" x=\"1450\">C).</tspan>\n",
       "    <tspan class=\"displacy-tag\" dy=\"2em\" fill=\"currentColor\" x=\"1450\">NOUN</tspan>\n",
       "</text>\n",
       "\n",
       "<text class=\"displacy-token\" fill=\"currentColor\" text-anchor=\"middle\" y=\"222.0\">\n",
       "    <tspan class=\"displacy-word\" fill=\"currentColor\" x=\"1625\">Grease</tspan>\n",
       "    <tspan class=\"displacy-tag\" dy=\"2em\" fill=\"currentColor\" x=\"1625\">NOUN</tspan>\n",
       "</text>\n",
       "\n",
       "<text class=\"displacy-token\" fill=\"currentColor\" text-anchor=\"middle\" y=\"222.0\">\n",
       "    <tspan class=\"displacy-word\" fill=\"currentColor\" x=\"1800\">2</tspan>\n",
       "    <tspan class=\"displacy-tag\" dy=\"2em\" fill=\"currentColor\" x=\"1800\">NUM</tspan>\n",
       "</text>\n",
       "\n",
       "<text class=\"displacy-token\" fill=\"currentColor\" text-anchor=\"middle\" y=\"222.0\">\n",
       "    <tspan class=\"displacy-word\" fill=\"currentColor\" x=\"1975\">loaf</tspan>\n",
       "    <tspan class=\"displacy-tag\" dy=\"2em\" fill=\"currentColor\" x=\"1975\">NOUN</tspan>\n",
       "</text>\n",
       "\n",
       "<text class=\"displacy-token\" fill=\"currentColor\" text-anchor=\"middle\" y=\"222.0\">\n",
       "    <tspan class=\"displacy-word\" fill=\"currentColor\" x=\"2150\">pans</tspan>\n",
       "    <tspan class=\"displacy-tag\" dy=\"2em\" fill=\"currentColor\" x=\"2150\">NOUN</tspan>\n",
       "</text>\n",
       "\n",
       "<g class=\"displacy-arrow\">\n",
       "    <path class=\"displacy-arc\" id=\"arrow-6860ef25532446bc96932e7198c381a3-0-0\" stroke-width=\"2px\" d=\"M70,177.0 C70,89.5 220.0,89.5 220.0,177.0\" fill=\"none\" stroke=\"currentColor\"/>\n",
       "    <text dy=\"1.25em\" style=\"font-size: 0.8em; letter-spacing: 1px\">\n",
       "        <textPath xlink:href=\"#arrow-6860ef25532446bc96932e7198c381a3-0-0\" class=\"displacy-label\" startOffset=\"50%\" side=\"left\" fill=\"currentColor\" text-anchor=\"middle\">nsubj</textPath>\n",
       "    </text>\n",
       "    <path class=\"displacy-arrowhead\" d=\"M70,179.0 L62,167.0 78,167.0\" fill=\"currentColor\"/>\n",
       "</g>\n",
       "\n",
       "<g class=\"displacy-arrow\">\n",
       "    <path class=\"displacy-arc\" id=\"arrow-6860ef25532446bc96932e7198c381a3-0-1\" stroke-width=\"2px\" d=\"M245,177.0 C245,89.5 395.0,89.5 395.0,177.0\" fill=\"none\" stroke=\"currentColor\"/>\n",
       "    <text dy=\"1.25em\" style=\"font-size: 0.8em; letter-spacing: 1px\">\n",
       "        <textPath xlink:href=\"#arrow-6860ef25532446bc96932e7198c381a3-0-1\" class=\"displacy-label\" startOffset=\"50%\" side=\"left\" fill=\"currentColor\" text-anchor=\"middle\">prep</textPath>\n",
       "    </text>\n",
       "    <path class=\"displacy-arrowhead\" d=\"M395.0,179.0 L403.0,167.0 387.0,167.0\" fill=\"currentColor\"/>\n",
       "</g>\n",
       "\n",
       "<g class=\"displacy-arrow\">\n",
       "    <path class=\"displacy-arc\" id=\"arrow-6860ef25532446bc96932e7198c381a3-0-2\" stroke-width=\"2px\" d=\"M595,177.0 C595,89.5 745.0,89.5 745.0,177.0\" fill=\"none\" stroke=\"currentColor\"/>\n",
       "    <text dy=\"1.25em\" style=\"font-size: 0.8em; letter-spacing: 1px\">\n",
       "        <textPath xlink:href=\"#arrow-6860ef25532446bc96932e7198c381a3-0-2\" class=\"displacy-label\" startOffset=\"50%\" side=\"left\" fill=\"currentColor\" text-anchor=\"middle\">nummod</textPath>\n",
       "    </text>\n",
       "    <path class=\"displacy-arrowhead\" d=\"M595,179.0 L587,167.0 603,167.0\" fill=\"currentColor\"/>\n",
       "</g>\n",
       "\n",
       "<g class=\"displacy-arrow\">\n",
       "    <path class=\"displacy-arc\" id=\"arrow-6860ef25532446bc96932e7198c381a3-0-3\" stroke-width=\"2px\" d=\"M770,177.0 C770,89.5 920.0,89.5 920.0,177.0\" fill=\"none\" stroke=\"currentColor\"/>\n",
       "    <text dy=\"1.25em\" style=\"font-size: 0.8em; letter-spacing: 1px\">\n",
       "        <textPath xlink:href=\"#arrow-6860ef25532446bc96932e7198c381a3-0-3\" class=\"displacy-label\" startOffset=\"50%\" side=\"left\" fill=\"currentColor\" text-anchor=\"middle\">compound</textPath>\n",
       "    </text>\n",
       "    <path class=\"displacy-arrowhead\" d=\"M770,179.0 L762,167.0 778,167.0\" fill=\"currentColor\"/>\n",
       "</g>\n",
       "\n",
       "<g class=\"displacy-arrow\">\n",
       "    <path class=\"displacy-arc\" id=\"arrow-6860ef25532446bc96932e7198c381a3-0-4\" stroke-width=\"2px\" d=\"M420,177.0 C420,2.0 925.0,2.0 925.0,177.0\" fill=\"none\" stroke=\"currentColor\"/>\n",
       "    <text dy=\"1.25em\" style=\"font-size: 0.8em; letter-spacing: 1px\">\n",
       "        <textPath xlink:href=\"#arrow-6860ef25532446bc96932e7198c381a3-0-4\" class=\"displacy-label\" startOffset=\"50%\" side=\"left\" fill=\"currentColor\" text-anchor=\"middle\">pobj</textPath>\n",
       "    </text>\n",
       "    <path class=\"displacy-arrowhead\" d=\"M925.0,179.0 L933.0,167.0 917.0,167.0\" fill=\"currentColor\"/>\n",
       "</g>\n",
       "\n",
       "<g class=\"displacy-arrow\">\n",
       "    <path class=\"displacy-arc\" id=\"arrow-6860ef25532446bc96932e7198c381a3-0-5\" stroke-width=\"2px\" d=\"M1120,177.0 C1120,89.5 1270.0,89.5 1270.0,177.0\" fill=\"none\" stroke=\"currentColor\"/>\n",
       "    <text dy=\"1.25em\" style=\"font-size: 0.8em; letter-spacing: 1px\">\n",
       "        <textPath xlink:href=\"#arrow-6860ef25532446bc96932e7198c381a3-0-5\" class=\"displacy-label\" startOffset=\"50%\" side=\"left\" fill=\"currentColor\" text-anchor=\"middle\">nummod</textPath>\n",
       "    </text>\n",
       "    <path class=\"displacy-arrowhead\" d=\"M1120,179.0 L1112,167.0 1128,167.0\" fill=\"currentColor\"/>\n",
       "</g>\n",
       "\n",
       "<g class=\"displacy-arrow\">\n",
       "    <path class=\"displacy-arc\" id=\"arrow-6860ef25532446bc96932e7198c381a3-0-6\" stroke-width=\"2px\" d=\"M1295,177.0 C1295,89.5 1445.0,89.5 1445.0,177.0\" fill=\"none\" stroke=\"currentColor\"/>\n",
       "    <text dy=\"1.25em\" style=\"font-size: 0.8em; letter-spacing: 1px\">\n",
       "        <textPath xlink:href=\"#arrow-6860ef25532446bc96932e7198c381a3-0-6\" class=\"displacy-label\" startOffset=\"50%\" side=\"left\" fill=\"currentColor\" text-anchor=\"middle\">compound</textPath>\n",
       "    </text>\n",
       "    <path class=\"displacy-arrowhead\" d=\"M1295,179.0 L1287,167.0 1303,167.0\" fill=\"currentColor\"/>\n",
       "</g>\n",
       "\n",
       "<g class=\"displacy-arrow\">\n",
       "    <path class=\"displacy-arc\" id=\"arrow-6860ef25532446bc96932e7198c381a3-0-7\" stroke-width=\"2px\" d=\"M945,177.0 C945,2.0 1450.0,2.0 1450.0,177.0\" fill=\"none\" stroke=\"currentColor\"/>\n",
       "    <text dy=\"1.25em\" style=\"font-size: 0.8em; letter-spacing: 1px\">\n",
       "        <textPath xlink:href=\"#arrow-6860ef25532446bc96932e7198c381a3-0-7\" class=\"displacy-label\" startOffset=\"50%\" side=\"left\" fill=\"currentColor\" text-anchor=\"middle\">appos</textPath>\n",
       "    </text>\n",
       "    <path class=\"displacy-arrowhead\" d=\"M1450.0,179.0 L1458.0,167.0 1442.0,167.0\" fill=\"currentColor\"/>\n",
       "</g>\n",
       "\n",
       "<g class=\"displacy-arrow\">\n",
       "    <path class=\"displacy-arc\" id=\"arrow-6860ef25532446bc96932e7198c381a3-0-8\" stroke-width=\"2px\" d=\"M1820,177.0 C1820,89.5 1970.0,89.5 1970.0,177.0\" fill=\"none\" stroke=\"currentColor\"/>\n",
       "    <text dy=\"1.25em\" style=\"font-size: 0.8em; letter-spacing: 1px\">\n",
       "        <textPath xlink:href=\"#arrow-6860ef25532446bc96932e7198c381a3-0-8\" class=\"displacy-label\" startOffset=\"50%\" side=\"left\" fill=\"currentColor\" text-anchor=\"middle\">nummod</textPath>\n",
       "    </text>\n",
       "    <path class=\"displacy-arrowhead\" d=\"M1820,179.0 L1812,167.0 1828,167.0\" fill=\"currentColor\"/>\n",
       "</g>\n",
       "\n",
       "<g class=\"displacy-arrow\">\n",
       "    <path class=\"displacy-arc\" id=\"arrow-6860ef25532446bc96932e7198c381a3-0-9\" stroke-width=\"2px\" d=\"M1995,177.0 C1995,89.5 2145.0,89.5 2145.0,177.0\" fill=\"none\" stroke=\"currentColor\"/>\n",
       "    <text dy=\"1.25em\" style=\"font-size: 0.8em; letter-spacing: 1px\">\n",
       "        <textPath xlink:href=\"#arrow-6860ef25532446bc96932e7198c381a3-0-9\" class=\"displacy-label\" startOffset=\"50%\" side=\"left\" fill=\"currentColor\" text-anchor=\"middle\">compound</textPath>\n",
       "    </text>\n",
       "    <path class=\"displacy-arrowhead\" d=\"M1995,179.0 L1987,167.0 2003,167.0\" fill=\"currentColor\"/>\n",
       "</g>\n",
       "\n",
       "<g class=\"displacy-arrow\">\n",
       "    <path class=\"displacy-arc\" id=\"arrow-6860ef25532446bc96932e7198c381a3-0-10\" stroke-width=\"2px\" d=\"M1645,177.0 C1645,2.0 2150.0,2.0 2150.0,177.0\" fill=\"none\" stroke=\"currentColor\"/>\n",
       "    <text dy=\"1.25em\" style=\"font-size: 0.8em; letter-spacing: 1px\">\n",
       "        <textPath xlink:href=\"#arrow-6860ef25532446bc96932e7198c381a3-0-10\" class=\"displacy-label\" startOffset=\"50%\" side=\"left\" fill=\"currentColor\" text-anchor=\"middle\">dobj</textPath>\n",
       "    </text>\n",
       "    <path class=\"displacy-arrowhead\" d=\"M2150.0,179.0 L2158.0,167.0 2142.0,167.0\" fill=\"currentColor\"/>\n",
       "</g>\n",
       "</svg></span>"
      ],
      "text/plain": [
       "<IPython.core.display.HTML object>"
      ]
     },
     "metadata": {},
     "output_type": "display_data"
    }
   ],
   "source": [
    "doc = nlp('Preheat oven to 325 degrees F (165 degrees C). Grease 2 loaf pans')\n",
    "for token in doc:\n",
    "    print(token.text,token.pos_, token.dep_, token.head.text, token.head.pos_,\n",
    "            [child for child in token.children])\n",
    "displacy.render(doc, style=\"dep\")"
   ]
  },
  {
   "cell_type": "markdown",
   "id": "indonesian-snake",
   "metadata": {},
   "source": [
    "### Thing that could be tools\n",
    "#### 1) pattern: lemma: 'in',   "
   ]
  },
  {
   "cell_type": "code",
   "execution_count": 63,
   "id": "figured-command",
   "metadata": {},
   "outputs": [
    {
     "data": {
      "text/plain": [
       "[pan]"
      ]
     },
     "execution_count": 63,
     "metadata": {},
     "output_type": "execute_result"
    }
   ],
   "source": [
    "def find_tool(sentence):\n",
    "    pattern = [{\"LEMMA\":{\"IN\":['in','with']}},{\"POS\":'DET'},{\"POS\":'NOUN', 'OP':'+'}]\n",
    "    # tool_pattern = [{\"POS\":'NOUN', 'OP':'+'}]\n",
    "    tools = []\n",
    "    matcher = Matcher(nlp.vocab)\n",
    "    matcher.add('find', [pattern])\n",
    "    doc = nlp(sentence)\n",
    "    matches = matcher(doc)\n",
    "    if len(matches) != 0:\n",
    "        span = doc[matches[-1][1]:matches[-1][2]]\n",
    "        for token in span:\n",
    "            if token.pos_ == 'NOUN':\n",
    "                tools.append(token)\n",
    "    return tools\n",
    "find_tool('Heat butter in a pan over medium heat')\n",
    "        \n",
    "        \n",
    "    "
   ]
  },
  {
   "cell_type": "code",
   "execution_count": 64,
   "id": "indirect-membership",
   "metadata": {},
   "outputs": [
    {
     "name": "stdout",
     "output_type": "stream",
     "text": [
      "Preheat oven to 325 degrees F (165 degrees C).\n",
      "Grease 2 loaf pans.\n",
      "\n",
      "Mix pumpkin pie filling, sweet potato pie filling, water, and oil together in a bowl; add flour, baking soda, and baking powder.\n",
      "Stir well.\n",
      "Pour mixture into the prepared loaf pans.\n",
      "\n",
      "Bake in the preheated oven until a knife inserted into each loaf comes out clean, about 1 hour.\n",
      "\n",
      "[[], [], [bowl], [], [], []]\n"
     ]
    }
   ],
   "source": [
    "tools = []\n",
    "for sentence in nlp(text).sents:\n",
    "    print(sentence)\n",
    "    t = find_tool(str(sentence))\n",
    "    tools.append(t)\n",
    "print(tools)\n",
    "    \n",
    "    \n",
    "    "
   ]
  },
  {
   "cell_type": "code",
   "execution_count": null,
   "id": "featured-mandate",
   "metadata": {},
   "outputs": [],
   "source": []
  }
 ],
 "metadata": {
  "kernelspec": {
   "display_name": "Python 3",
   "language": "python",
   "name": "python3"
  },
  "language_info": {
   "codemirror_mode": {
    "name": "ipython",
    "version": 3
   },
   "file_extension": ".py",
   "mimetype": "text/x-python",
   "name": "python",
   "nbconvert_exporter": "python",
   "pygments_lexer": "ipython3",
   "version": "3.8.5"
  }
 },
 "nbformat": 4,
 "nbformat_minor": 5
}
