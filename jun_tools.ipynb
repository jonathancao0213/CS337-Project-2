{
 "cells": [
  {
   "cell_type": "code",
   "execution_count": 286,
   "id": "uniform-exclusion",
   "metadata": {},
   "outputs": [],
   "source": [
    "import requests\n",
    "import bs4\n",
    "from bs4 import BeautifulSoup as soup\n",
    "import json\n",
    "import pandas\n",
    "from pandas import DataFrame\n",
    "import spacy\n",
    "from spacy.matcher import Matcher\n",
    "from spacy.tokens import Span\n",
    "from spacy import displacy\n",
    "from collections import defaultdict\n",
    "nlp = spacy.load('en_core_web_md')\n",
    "from string import punctuation\n",
    "import itertools"
   ]
  },
  {
   "cell_type": "code",
   "execution_count": 287,
   "id": "chronic-merchant",
   "metadata": {},
   "outputs": [],
   "source": [
    "from collections import defaultdict"
   ]
  },
  {
   "cell_type": "code",
   "execution_count": 288,
   "id": "independent-catalyst",
   "metadata": {},
   "outputs": [],
   "source": [
    "def get_ld_json(url: str) -> dict:\n",
    "    parser = \"html.parser\"\n",
    "    req = requests.get(url)\n",
    "    page = soup(req.text, parser)\n",
    "    return json.loads(\"\".join(page.find(\"script\", {\"type\":\"application/ld+json\"}).contents))\n",
    "def get_ingredientScript(url):\n",
    "    jsonld = get_ld_json(url)\n",
    "    useful = jsonld[1]\n",
    "    ingredients = useful[\"recipeIngredient\"]\n",
    "    return ingredients\n",
    "def parse_ingredients(url):\n",
    "    ingredients = get_ingredientScript(url)\n",
    "    df = DataFrame (ingredients,columns=['ingredients'])\n",
    "    # 2 cases\n",
    "    # \"number\" (\"()\") (\"unit\") (adjective) \"noun/subject - ingredient\" (, other)\n",
    "    # contains \"to taste\"\n",
    "    df = df[\"ingredients\"]\n",
    "    df_taste = df[df.str.contains('to taste', case = False)]\n",
    "    \n",
    "    df_unit = df[~df.str.contains('to taste', case = False)]\n",
    "    \n",
    "    # array of arrays: each array is amount, unit, ingredient, descriptor, preparation\n",
    "    ingredients_parsed = []\n",
    "    \n",
    "    for i in df:\n",
    "        curr_arr = [\"\", \"\", \"\", \"\", \"\"]\n",
    "        print(i)\n",
    "        if 'to taste' not in i:\n",
    "        \n",
    "            # before we look at POS, remove everything after the comma and put it in prep\n",
    "            split_string = i.split(\", \", 1)\n",
    "            root_phrase = split_string[0]\n",
    "            if len(split_string) > 1:\n",
    "                other_piece = split_string[1]\n",
    "            else:\n",
    "                other_piece = \"\"\n",
    "\n",
    "            curr_arr[4] = other_piece\n",
    "\n",
    "            split_string2 = root_phrase.split(\"(\", 1)\n",
    "            if len(split_string2) > 1:\n",
    "                split_string3 = split_string2[1].split(\")\", 1)\n",
    "                curr_arr[3] = split_string3[0]\n",
    "                root_phrase = split_string2[0].strip() + split_string3[1]\n",
    "            doc = nlp(root_phrase)\n",
    "            index = 0\n",
    "            for token in doc:\n",
    "                found_num = False\n",
    "                # only get first number if it matches criteria\n",
    "                #if found_num == False and token.pos_ == \"NOUN\" and not token.is_alpha or token.pos_ == \"NUM\":\n",
    "                if index == 0:\n",
    "                    curr_arr[0] = token.text\n",
    "                elif index == 1:\n",
    "                    if token.pos_ != \"ADJ\":\n",
    "                        curr_arr[1] = token.text\n",
    "                    else:\n",
    "                        curr_arr[3] = token.text\n",
    "                elif token.dep_ == \"ROOT\":\n",
    "                    curr_arr[2] = token.text\n",
    "                else: \n",
    "                    curr_arr[3] = curr_arr[3] + \" \" + token.text\n",
    "                    curr_arr[3] = curr_arr[3].strip()\n",
    "                index+=1\n",
    "        else:\n",
    "            i = i.replace(\"to taste\", \"\")\n",
    "            doc = nlp(i)\n",
    "            curr_arr[0] = \"to taste\"\n",
    "            for token in doc:\n",
    "                if token.dep_ == \"ROOT\":\n",
    "                    curr_arr[2] = token.text\n",
    "                else:\n",
    "                    curr_arr[3] = curr_arr[3] + \" \" + token.text\n",
    "                    curr_arr[3] = curr_arr[3].strip()\n",
    "        ingredients_parsed.append(curr_arr)\n",
    "        #print(token.text, token.pos_, token.tag_, token.dep_, token.shape_, token.is_alpha, token.is_stop, token.children, token.head)\n",
    "        #displacy.render(doc, style=\"dep\") # change to serve when we go to python\n",
    "\n",
    "\n",
    "    \n",
    "    return ingredients_parsed"
   ]
  },
  {
   "cell_type": "code",
   "execution_count": 300,
   "id": "reflected-storage",
   "metadata": {},
   "outputs": [],
   "source": [
    "url1 = \"https://www.allrecipes.com/recipe/232542\""
   ]
  },
  {
   "cell_type": "code",
   "execution_count": 301,
   "id": "rational-rainbow",
   "metadata": {},
   "outputs": [
    {
     "name": "stdout",
     "output_type": "stream",
     "text": [
      "[{'@context': 'http://schema.org', '@type': 'BreadcrumbList', 'itemListElement': [{'@type': 'ListItem', 'position': 1, 'item': {'@id': 'https://www.allrecipes.com/', 'name': 'Home', 'image': None}}, {'@type': 'ListItem', 'position': 2, 'item': {'@id': 'https://www.allrecipes.com/recipes/', 'name': 'Recipes', 'image': None}}, {'@type': 'ListItem', 'position': 3, 'item': {'@id': 'https://www.allrecipes.com/recipes/156/bread/', 'name': 'Bread', 'image': None}}, {'@type': 'ListItem', 'position': 4, 'item': {'@id': 'https://www.allrecipes.com/recipes/360/bread/quick-bread/', 'name': 'Quick Bread Recipes', 'image': None}}, {'@type': 'ListItem', 'position': 5, 'item': {'@id': 'https://www.allrecipes.com/recipes/347/bread/quick-bread/pumpkin-bread/', 'name': 'Pumpkin Bread Recipes', 'image': None}}]}, {'@context': 'http://schema.org', '@type': 'Recipe', 'mainEntityOfPage': 'https://www.allrecipes.com/recipe/232542/low-fat-vegan-pumpkin-chocolate-chip-muffins/', 'name': 'Low-Fat Vegan Pumpkin Chocolate Chip Muffins', 'image': {'@type': 'ImageObject', 'url': 'https://imagesvc.meredithcorp.io/v3/mm/image?url=https%3A%2F%2Fimages.media-allrecipes.com%2Fuserphotos%2F1098334.jpg', 'width': 1944, 'height': 1936}, 'datePublished': '2020-03-05T05:10:35.000Z', 'description': 'Tasty vegan muffins that are low-fat. Much of the fat content in this recipe is from the chocolate chips, but they are soooo worth it!', 'prepTime': 'P0DT0H15M', 'cookTime': 'P0DT0H25M', 'totalTime': 'P0DT0H60M', 'recipeYield': '1 dozen muffins', 'recipeIngredient': ['2 cups whole wheat flour', '½ cup packed brown sugar', '1 tablespoon baking powder', '1 teaspoon ground cinnamon', '½ teaspoon baking soda', '½ teaspoon salt', '½ teaspoon ground nutmeg', '1 (15 ounce) can solid-pack pumpkin', '½ cup water', '½ cup chocolate chips'], 'recipeInstructions': [{'@type': 'HowToStep', 'text': 'Preheat oven to 375 degrees F (190 degrees C). Line 12 muffin cups with paper liners.\\n'}, {'@type': 'HowToStep', 'text': 'Whisk whole wheat flour, brown sugar, baking powder, cinnamon, baking soda, salt, and nutmeg in a large bowl. Stir pumpkin and water into dry ingredients, mixing until just moistened; fold in chocolate chips. Spoon batter into prepared muffin cups, filling them to just below the tops.\\n'}, {'@type': 'HowToStep', 'text': 'Bake in the preheated oven until lightly browned and tops of muffins bounce back when pressed lightly, 25 to 30 minutes. Let muffins cool in pans for 5 minutes until removing to a wire rack to cool completely.\\n'}], 'recipeCategory': ['Bread', 'Quick Bread Recipes', 'Pumpkin Bread Recipes'], 'recipeCuisine': [], 'author': [{'@type': 'Person', 'name': 'Mallow1'}], 'aggregateRating': {'@type': 'AggregateRating', 'ratingValue': 4.242424242424242, 'ratingCount': 33, 'itemReviewed': 'Low-Fat Vegan Pumpkin Chocolate Chip Muffins', 'bestRating': '5', 'worstRating': '1'}, 'nutrition': {'@type': 'NutritionInformation', 'calories': '149.8 calories', 'carbohydrateContent': '31.2 g', 'cholesterolContent': None, 'fatContent': '2.6 g', 'fiberContent': '4 g', 'proteinContent': '3.5 g', 'saturatedFatContent': '1.4 g', 'servingSize': None, 'sodiumContent': '323.5 mg', 'sugarContent': '14 g', 'transFatContent': None, 'unsaturatedFatContent': None}, 'review': [{'@type': 'Review', 'datePublished': '2013-05-28T01:02:33.51Z', 'reviewBody': \"I made these yesterday and my family really enjoyed them. We jut started eating vegan for my husband's heart health, so I'm looking for new recipes to replace old favorites. These were moist and yummy and were a very nice addition to our Sunday brunch. I used 1 cup ww flour, 1 cup ww pastry flour and it worked nicely. Thanks for sharing, Mallow1!\", 'reviewRating': {'@type': 'Rating', 'worstRating': '1', 'bestRating': '5', 'ratingValue': 5}, 'author': {'@type': 'Person', 'name': 'TeacherMommy', 'image': None, 'sameAs': 'https://www.allrecipes.com/cook/5911515/'}}, {'@type': 'Review', 'datePublished': '2013-09-23T19:00:52.123Z', 'reviewBody': \"These muffins had a good flavor, but you could tell by their appearance and texture that they are a lower fat type muffin. They don't have that smooth, slightly moist top most muffins have. The interior is soft, yet extremely dense. The exterior is slightly hard and has more of a crusty texture. The batter is very thick and the way it is spread is the way it bakes up. So consider that, if not spreading smoothly on top. Only change I made was using mini chocolate chips, pumpkin spice for the nutmeg, and King Arthur white whole wheat. These would fit most diets. The calories are also quite low for a muffin. Might be good with some coffee.\", 'reviewRating': {'@type': 'Rating', 'worstRating': '1', 'bestRating': '5', 'ratingValue': 3}, 'author': {'@type': 'Person', 'name': 'Holiday Baker', 'image': None, 'sameAs': 'https://www.allrecipes.com/cook/holidaybaker/'}}, {'@type': 'Review', 'datePublished': '2013-10-11T18:30:05.35Z', 'reviewBody': \"These turned out great. I only had white flour on hand so I used that instead of the whole wheat. I also used apple cider instead of water to boost those fall flavors. They did stick to the paper but that doesn't really bother me. The fact that it's not full of added fats more than makes up for it. Great recipe!\", 'reviewRating': {'@type': 'Rating', 'worstRating': '1', 'bestRating': '5', 'ratingValue': 5}, 'author': {'@type': 'Person', 'name': 'trishsmc', 'image': None, 'sameAs': 'https://www.allrecipes.com/cook/5571179/'}}, {'@type': 'Review', 'datePublished': '2015-03-02T16:13:42.277Z', 'reviewBody': \"Really good! Didn't even notice missing egg. Used 1/2 white flour and 1/2 white whole wheat 1/2 pumpkin and 1/2 no-added-sugar applesauce and also used almond milk instead of water. My son ate 6 of these right out of the pan.\", 'reviewRating': {'@type': 'Rating', 'worstRating': '1', 'bestRating': '5', 'ratingValue': 5}, 'author': {'@type': 'Person', 'name': 'smileysue', 'image': None, 'sameAs': 'https://www.allrecipes.com/cook/15452477/'}}, {'@type': 'Review', 'datePublished': '2013-09-12T17:43:42.913Z', 'reviewBody': \"Great healthy breakfast muffin for the kids. Not too sweet which I appreciate. I did add an egg because the mixture was extremely dry before baking and I wasn't necessarily looking for a vegan recipe. I agree with the other reviewers that if you leave out the chocolate chips you need to add raisins diced apple cranberries or something for a little extra sweetness\", 'reviewRating': {'@type': 'Rating', 'worstRating': '1', 'bestRating': '5', 'ratingValue': 5}, 'author': {'@type': 'Person', 'name': 'SIOCHANLEAT82', 'image': None, 'sameAs': 'https://www.allrecipes.com/cook/1452954/'}}, {'@type': 'Review', 'datePublished': '2013-10-04T03:38:24.47Z', 'reviewBody': 'This was a wonderful recipe! Super easy to make and it tasted great. It was a hit with all of my friends (who are all meat and dairy eaters some scoffed at the \"Vegan\" name first saying vegan foods don\\'t taste the same). They all LOVED it. The only thing I would add is to add some oil in the muffin liners. The muffins got stuck to the liners themselves and wouldn\\'t come off.', 'reviewRating': {'@type': 'Rating', 'worstRating': '1', 'bestRating': '5', 'ratingValue': 4}, 'author': {'@type': 'Person', 'name': 'jayziti', 'image': None, 'sameAs': 'https://www.allrecipes.com/cook/11910960/'}}, {'@type': 'Review', 'datePublished': '2014-01-03T14:17:47.663Z', 'reviewBody': \"These muffins are fantastic! To make the batter more moist I added an egg (which isn't vegan but really helped the recipe!). I also substituted 1/4 teaspoon of the nutmeg for pumpkin pie spice. I would recommend using foil cupcake liners because the muffins don't stick to them. Overall this was a great recipe. I will definitely be making these again!\", 'reviewRating': {'@type': 'Rating', 'worstRating': '1', 'bestRating': '5', 'ratingValue': 5}, 'author': {'@type': 'Person', 'name': 'VeggieGirl', 'image': None, 'sameAs': 'https://www.allrecipes.com/cook/11983659/'}}, {'@type': 'Review', 'datePublished': '2013-06-05T17:18:04.763Z', 'reviewBody': 'I was so surprised by how good this turned out. I used all brown flower which added a nice grainy texture to it and made a cake instead of muffins. So yummy! And I agree that the chocolate chips are worth it- but if you skip them you would want to put some sort of added something (nuts dates raisins) to add sweetness.', 'reviewRating': {'@type': 'Rating', 'worstRating': '1', 'bestRating': '5', 'ratingValue': 5}, 'author': {'@type': 'Person', 'name': 'ali', 'image': None, 'sameAs': 'https://www.allrecipes.com/cook/8855435/'}}, {'@type': 'Review', 'datePublished': '2015-06-01T19:15:40.147Z', 'reviewBody': \"these turned out crumbly and didn't work at all.\", 'reviewRating': {'@type': 'Rating', 'worstRating': '1', 'bestRating': '5', 'ratingValue': 1}, 'author': {'@type': 'Person', 'name': 'sophial14', 'image': None, 'sameAs': 'https://www.allrecipes.com/cook/15812927/'}}]}]\n"
     ]
    }
   ],
   "source": [
    "json_ld = get_ld_json(url1)\n",
    "print(json_ld)"
   ]
  },
  {
   "cell_type": "code",
   "execution_count": 302,
   "id": "egyptian-rouge",
   "metadata": {},
   "outputs": [
    {
     "name": "stdout",
     "output_type": "stream",
     "text": [
      "2 cups whole wheat flour\n",
      "½ cup packed brown sugar\n",
      "1 tablespoon baking powder\n",
      "1 teaspoon ground cinnamon\n",
      "½ teaspoon baking soda\n",
      "½ teaspoon salt\n",
      "½ teaspoon ground nutmeg\n",
      "1 (15 ounce) can solid-pack pumpkin\n",
      "½ cup water\n",
      "½ cup chocolate chips\n",
      "[['2', 'cups', '', 'whole wheat flour', ''], ['½', 'cup', 'sugar', 'packed brown', ''], ['1', 'tablespoon', 'powder', 'baking', ''], ['1', 'teaspoon', 'cinnamon', 'ground', ''], ['½', 'teaspoon', 'soda', 'baking', ''], ['½', 'teaspoon', 'salt', '', ''], ['½', 'teaspoon', 'nutmeg', 'ground', ''], ['1', 'can', '', '15 ounce solid - pack pumpkin', ''], ['½', 'cup', 'water', '', ''], ['½', 'cup', 'chips', 'chocolate', '']]\n"
     ]
    }
   ],
   "source": [
    "ing = parse_ingredients(url1)\n",
    "print(ing)"
   ]
  },
  {
   "cell_type": "code",
   "execution_count": 309,
   "id": "physical-consultancy",
   "metadata": {},
   "outputs": [
    {
     "name": "stdout",
     "output_type": "stream",
     "text": [
      "['mixture', 'ingredients', 'c', 'h', 'o', 'l', 'a', 't', 'e', 'low-fat', 'vegan', 'pumpkin', 'chocolate', 'chip', 'muffins']\n"
     ]
    }
   ],
   "source": [
    "one_list = itertools.chain.from_iterable(ing)\n",
    "fil = list(dict.fromkeys(one_list))\n",
    "new = ['mixture','ingredients']\n",
    "name = json_ld[1]['name']\n",
    "for ing in fil:\n",
    "    for word in ing.split():\n",
    "        new.append(word)\n",
    "for w in name.lower().split():\n",
    "    new.append(w)\n",
    "new = list(dict.fromkeys(new))\n",
    "print(new)"
   ]
  },
  {
   "cell_type": "code",
   "execution_count": 310,
   "id": "radio-iraqi",
   "metadata": {},
   "outputs": [
    {
     "name": "stdout",
     "output_type": "stream",
     "text": [
      "Preheat oven to 375 degrees F (190 degrees C). Line 12 muffin cups with paper liners.\n",
      "Whisk whole wheat flour, brown sugar, baking powder, cinnamon, baking soda, salt, and nutmeg in a large bowl. Stir pumpkin and water into dry ingredients, mixing until just moistened; fold in chocolate chips. Spoon batter into prepared muffin cups, filling them to just below the tops.\n",
      "Bake in the preheated oven until lightly browned and tops of muffins bounce back when pressed lightly, 25 to 30 minutes. Let muffins cool in pans for 5 minutes until removing to a wire rack to cool completely.\n",
      "\n",
      "Low-Fat Vegan Pumpkin Chocolate Chip Muffins\n"
     ]
    }
   ],
   "source": [
    "text = json_ld[1]['recipeInstructions']\n",
    "if len(text) > 1:\n",
    "    new_text = ''\n",
    "    for i,t in enumerate(text):\n",
    "#         print(text[i]['text'])\n",
    "        new_text = new_text + text[i]['text']\n",
    "    text = new_text\n",
    "else:\n",
    "    text = text[0]['text']\n",
    "print(text)\n",
    "print(name)"
   ]
  },
  {
   "cell_type": "code",
   "execution_count": 311,
   "id": "excited-compilation",
   "metadata": {},
   "outputs": [
    {
     "name": "stdout",
     "output_type": "stream",
     "text": [
      "grease VERB ROOT grease VERB [pan] grease\n",
      "a DET det pan NOUN [] a\n",
      "10-inch NUM nummod tube NOUN [] 10-inch\n",
      "tube NOUN compound pan NOUN [10-inch] tube\n",
      "pan NOUN dobj grease VERB [a, tube] pan\n"
     ]
    },
    {
     "data": {
      "text/html": [
       "<span class=\"tex2jax_ignore\"><svg xmlns=\"http://www.w3.org/2000/svg\" xmlns:xlink=\"http://www.w3.org/1999/xlink\" xml:lang=\"en\" id=\"cf2172f1861a44098d7a5ceebcd63cb2-0\" class=\"displacy\" width=\"925\" height=\"399.5\" direction=\"ltr\" style=\"max-width: none; height: 399.5px; color: #000000; background: #ffffff; font-family: Arial; direction: ltr\">\n",
       "<text class=\"displacy-token\" fill=\"currentColor\" text-anchor=\"middle\" y=\"309.5\">\n",
       "    <tspan class=\"displacy-word\" fill=\"currentColor\" x=\"50\">grease</tspan>\n",
       "    <tspan class=\"displacy-tag\" dy=\"2em\" fill=\"currentColor\" x=\"50\">VERB</tspan>\n",
       "</text>\n",
       "\n",
       "<text class=\"displacy-token\" fill=\"currentColor\" text-anchor=\"middle\" y=\"309.5\">\n",
       "    <tspan class=\"displacy-word\" fill=\"currentColor\" x=\"225\">a</tspan>\n",
       "    <tspan class=\"displacy-tag\" dy=\"2em\" fill=\"currentColor\" x=\"225\">DET</tspan>\n",
       "</text>\n",
       "\n",
       "<text class=\"displacy-token\" fill=\"currentColor\" text-anchor=\"middle\" y=\"309.5\">\n",
       "    <tspan class=\"displacy-word\" fill=\"currentColor\" x=\"400\">10-inch</tspan>\n",
       "    <tspan class=\"displacy-tag\" dy=\"2em\" fill=\"currentColor\" x=\"400\">NUM</tspan>\n",
       "</text>\n",
       "\n",
       "<text class=\"displacy-token\" fill=\"currentColor\" text-anchor=\"middle\" y=\"309.5\">\n",
       "    <tspan class=\"displacy-word\" fill=\"currentColor\" x=\"575\">tube</tspan>\n",
       "    <tspan class=\"displacy-tag\" dy=\"2em\" fill=\"currentColor\" x=\"575\">NOUN</tspan>\n",
       "</text>\n",
       "\n",
       "<text class=\"displacy-token\" fill=\"currentColor\" text-anchor=\"middle\" y=\"309.5\">\n",
       "    <tspan class=\"displacy-word\" fill=\"currentColor\" x=\"750\">pan</tspan>\n",
       "    <tspan class=\"displacy-tag\" dy=\"2em\" fill=\"currentColor\" x=\"750\">NOUN</tspan>\n",
       "</text>\n",
       "\n",
       "<g class=\"displacy-arrow\">\n",
       "    <path class=\"displacy-arc\" id=\"arrow-cf2172f1861a44098d7a5ceebcd63cb2-0-0\" stroke-width=\"2px\" d=\"M245,264.5 C245,89.5 745.0,89.5 745.0,264.5\" fill=\"none\" stroke=\"currentColor\"/>\n",
       "    <text dy=\"1.25em\" style=\"font-size: 0.8em; letter-spacing: 1px\">\n",
       "        <textPath xlink:href=\"#arrow-cf2172f1861a44098d7a5ceebcd63cb2-0-0\" class=\"displacy-label\" startOffset=\"50%\" side=\"left\" fill=\"currentColor\" text-anchor=\"middle\">det</textPath>\n",
       "    </text>\n",
       "    <path class=\"displacy-arrowhead\" d=\"M245,266.5 L237,254.5 253,254.5\" fill=\"currentColor\"/>\n",
       "</g>\n",
       "\n",
       "<g class=\"displacy-arrow\">\n",
       "    <path class=\"displacy-arc\" id=\"arrow-cf2172f1861a44098d7a5ceebcd63cb2-0-1\" stroke-width=\"2px\" d=\"M420,264.5 C420,177.0 565.0,177.0 565.0,264.5\" fill=\"none\" stroke=\"currentColor\"/>\n",
       "    <text dy=\"1.25em\" style=\"font-size: 0.8em; letter-spacing: 1px\">\n",
       "        <textPath xlink:href=\"#arrow-cf2172f1861a44098d7a5ceebcd63cb2-0-1\" class=\"displacy-label\" startOffset=\"50%\" side=\"left\" fill=\"currentColor\" text-anchor=\"middle\">nummod</textPath>\n",
       "    </text>\n",
       "    <path class=\"displacy-arrowhead\" d=\"M420,266.5 L412,254.5 428,254.5\" fill=\"currentColor\"/>\n",
       "</g>\n",
       "\n",
       "<g class=\"displacy-arrow\">\n",
       "    <path class=\"displacy-arc\" id=\"arrow-cf2172f1861a44098d7a5ceebcd63cb2-0-2\" stroke-width=\"2px\" d=\"M595,264.5 C595,177.0 740.0,177.0 740.0,264.5\" fill=\"none\" stroke=\"currentColor\"/>\n",
       "    <text dy=\"1.25em\" style=\"font-size: 0.8em; letter-spacing: 1px\">\n",
       "        <textPath xlink:href=\"#arrow-cf2172f1861a44098d7a5ceebcd63cb2-0-2\" class=\"displacy-label\" startOffset=\"50%\" side=\"left\" fill=\"currentColor\" text-anchor=\"middle\">compound</textPath>\n",
       "    </text>\n",
       "    <path class=\"displacy-arrowhead\" d=\"M595,266.5 L587,254.5 603,254.5\" fill=\"currentColor\"/>\n",
       "</g>\n",
       "\n",
       "<g class=\"displacy-arrow\">\n",
       "    <path class=\"displacy-arc\" id=\"arrow-cf2172f1861a44098d7a5ceebcd63cb2-0-3\" stroke-width=\"2px\" d=\"M70,264.5 C70,2.0 750.0,2.0 750.0,264.5\" fill=\"none\" stroke=\"currentColor\"/>\n",
       "    <text dy=\"1.25em\" style=\"font-size: 0.8em; letter-spacing: 1px\">\n",
       "        <textPath xlink:href=\"#arrow-cf2172f1861a44098d7a5ceebcd63cb2-0-3\" class=\"displacy-label\" startOffset=\"50%\" side=\"left\" fill=\"currentColor\" text-anchor=\"middle\">dobj</textPath>\n",
       "    </text>\n",
       "    <path class=\"displacy-arrowhead\" d=\"M750.0,266.5 L758.0,254.5 742.0,254.5\" fill=\"currentColor\"/>\n",
       "</g>\n",
       "</svg></span>"
      ],
      "text/plain": [
       "<IPython.core.display.HTML object>"
      ]
     },
     "metadata": {},
     "output_type": "display_data"
    }
   ],
   "source": [
    "doc = nlp('Grease a 10-inch tube pan'.lower())\n",
    "for token in doc:\n",
    "    print(token.text,token.pos_, token.dep_, token.head.text, token.head.pos_,\n",
    "            [child for child in token.children], token.lemma_)\n",
    "displacy.render(doc, style=\"dep\")"
   ]
  },
  {
   "cell_type": "code",
   "execution_count": 312,
   "id": "united-stone",
   "metadata": {},
   "outputs": [
    {
     "name": "stdout",
     "output_type": "stream",
     "text": [
      "a 10-inch tube pan pan dobj grease VERB\n"
     ]
    }
   ],
   "source": [
    "for chunk in doc.noun_chunks:\n",
    "    print(chunk.text, chunk.root.text, chunk.root.dep_,\n",
    "            chunk.root.head.text,chunk.root.head.pos_)"
   ]
  },
  {
   "cell_type": "code",
   "execution_count": null,
   "id": "actual-treatment",
   "metadata": {},
   "outputs": [],
   "source": []
  },
  {
   "cell_type": "markdown",
   "id": "touched-judge",
   "metadata": {},
   "source": [
    "### Thing that could be tools\n",
    "#### 1) pattern: lemma: 'in',   "
   ]
  },
  {
   "cell_type": "code",
   "execution_count": 313,
   "id": "junior-disease",
   "metadata": {},
   "outputs": [],
   "source": [
    "def find_tool(sentence):\n",
    "    pattern = [{\"LEMMA\":{\"IN\":['in','with']}},{\"POS\":'DET'},{\"POS\":'NOUN', 'OP':'+'}]\n",
    "    # tool_pattern = [{\"POS\":'NOUN', 'OP':'+'}]\n",
    "    tools = []\n",
    "    matcher = Matcher(nlp.vocab)\n",
    "    matcher.add('find', [pattern])\n",
    "    doc = nlp(sentence)\n",
    "    matches = matcher(doc)\n",
    "    if len(matches) != 0:\n",
    "        span = doc[matches[-1][1]:matches[-1][2]]\n",
    "        for token in span:\n",
    "            if token.pos_ == 'NOUN':\n",
    "                tools.append(token)\n",
    "    return tools\n",
    "find_tool('Heat butter in a pan over medium heat')\n",
    "def find_tool2(sentence):\n",
    "    in_list = ['in','into','on']\n",
    "    too =[]\n",
    "    not_tools = []\n",
    "    sent = nlp(sentence.lower())\n",
    "    for chunk in sent.noun_chunks:\n",
    "#         and chunk.root.head.pos_ != 'VERB' and not chunk.root.is_sent_start\n",
    "        if chunk.root.text not in new and chunk.root.head.text in in_list:\n",
    "            too.append(chunk.root.text)\n",
    "#     for token in sent:\n",
    "#         if token.text not in too and token.pos_ == 'NOUN':\n",
    "#             not_tools.append(token.text)\n",
    "    return too, not_tools\n",
    "        \n",
    "    "
   ]
  },
  {
   "cell_type": "code",
   "execution_count": 314,
   "id": "distributed-drink",
   "metadata": {},
   "outputs": [
    {
     "name": "stdout",
     "output_type": "stream",
     "text": [
      "Preheat oven to 375 degrees F (190 degrees C).\n",
      "Line 12 muffin cups with paper liners.\n",
      "\n",
      "Whisk whole wheat flour, brown sugar, baking powder, cinnamon, baking soda, salt, and nutmeg in a large bowl.\n",
      "bowl\n",
      "Stir pumpkin and water into dry ingredients, mixing until just moistened; fold in chocolate chips.\n",
      "Spoon batter into prepared muffin cups, filling them to just below the tops.\n",
      "\n",
      "cups\n",
      "Bake in the preheated oven until lightly browned and tops of muffins bounce back when pressed lightly, 25 to 30 minutes.\n",
      "oven\n",
      "Let muffins cool in pans for 5 minutes until removing to a wire rack to cool completely.\n",
      "\n",
      "pans\n",
      "['bowl', 'cups', 'oven', 'pans']\n"
     ]
    }
   ],
   "source": [
    "tools = []\n",
    "\n",
    "for sentence in nlp(text).sents:\n",
    "    print(sentence)\n",
    "    t,nt = find_tool2(str(sentence))\n",
    "    for each in t:\n",
    "        print(each)\n",
    "#         if each not in big_not_tools:\n",
    "        tools.append(each)\n",
    "print(tools)\n",
    "    \n",
    "    \n",
    "    "
   ]
  },
  {
   "cell_type": "code",
   "execution_count": null,
   "id": "short-tsunami",
   "metadata": {},
   "outputs": [],
   "source": []
  },
  {
   "cell_type": "code",
   "execution_count": null,
   "id": "driven-discussion",
   "metadata": {},
   "outputs": [],
   "source": []
  }
 ],
 "metadata": {
  "kernelspec": {
   "display_name": "Python 3",
   "language": "python",
   "name": "python3"
  },
  "language_info": {
   "codemirror_mode": {
    "name": "ipython",
    "version": 3
   },
   "file_extension": ".py",
   "mimetype": "text/x-python",
   "name": "python",
   "nbconvert_exporter": "python",
   "pygments_lexer": "ipython3",
   "version": "3.8.5"
  }
 },
 "nbformat": 4,
 "nbformat_minor": 5
}
