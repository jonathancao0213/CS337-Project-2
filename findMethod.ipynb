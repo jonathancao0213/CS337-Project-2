{
 "cells": [
  {
   "cell_type": "code",
   "execution_count": 15,
   "id": "noble-defensive",
   "metadata": {},
   "outputs": [],
   "source": [
    "import spacy\n",
    "from spacy import displacy\n",
    "from spacy.matcher import Matcher\n",
    "from spacy.tokens import Span\n",
    "nlp = spacy.load('en_core_web_sm')\n",
    "from string import punctuation\n",
    "from word2number import w2n"
   ]
  },
  {
   "cell_type": "code",
   "execution_count": 29,
   "id": "southeast-diving",
   "metadata": {},
   "outputs": [
    {
     "name": "stdout",
     "output_type": "stream",
     "text": [
      "Cool Cool ADJ JJ ROOT Xxxx True False <generator object at 0x00000234D3807820> Cool\n",
      "for for ADP IN prep xxx True True <generator object at 0x00000234D3807820> Cool\n",
      "10 10 NUM CD nummod dd False False <generator object at 0x00000234D3807820> minutes\n",
      "minutes minutes NOUN NNS pobj xxxx True False <generator object at 0x00000234D3807820> for\n",
      "before before ADP IN prep xxxx True True <generator object at 0x00000234D3807820> Cool\n",
      "serving serving VERB VBG pcomp xxxx True False <generator object at 0x00000234D3807820> before\n"
     ]
    },
    {
     "data": {
      "text/html": [
       "<span class=\"tex2jax_ignore\"><svg xmlns=\"http://www.w3.org/2000/svg\" xmlns:xlink=\"http://www.w3.org/1999/xlink\" xml:lang=\"en\" id=\"ff701974f97345aebe4b22ba4a6e92e3-0\" class=\"displacy\" width=\"1100\" height=\"399.5\" direction=\"ltr\" style=\"max-width: none; height: 399.5px; color: #000000; background: #ffffff; font-family: Arial; direction: ltr\">\n",
       "<text class=\"displacy-token\" fill=\"currentColor\" text-anchor=\"middle\" y=\"309.5\">\n",
       "    <tspan class=\"displacy-word\" fill=\"currentColor\" x=\"50\">Cool</tspan>\n",
       "    <tspan class=\"displacy-tag\" dy=\"2em\" fill=\"currentColor\" x=\"50\">ADJ</tspan>\n",
       "</text>\n",
       "\n",
       "<text class=\"displacy-token\" fill=\"currentColor\" text-anchor=\"middle\" y=\"309.5\">\n",
       "    <tspan class=\"displacy-word\" fill=\"currentColor\" x=\"225\">for</tspan>\n",
       "    <tspan class=\"displacy-tag\" dy=\"2em\" fill=\"currentColor\" x=\"225\">ADP</tspan>\n",
       "</text>\n",
       "\n",
       "<text class=\"displacy-token\" fill=\"currentColor\" text-anchor=\"middle\" y=\"309.5\">\n",
       "    <tspan class=\"displacy-word\" fill=\"currentColor\" x=\"400\">10</tspan>\n",
       "    <tspan class=\"displacy-tag\" dy=\"2em\" fill=\"currentColor\" x=\"400\">NUM</tspan>\n",
       "</text>\n",
       "\n",
       "<text class=\"displacy-token\" fill=\"currentColor\" text-anchor=\"middle\" y=\"309.5\">\n",
       "    <tspan class=\"displacy-word\" fill=\"currentColor\" x=\"575\">minutes</tspan>\n",
       "    <tspan class=\"displacy-tag\" dy=\"2em\" fill=\"currentColor\" x=\"575\">NOUN</tspan>\n",
       "</text>\n",
       "\n",
       "<text class=\"displacy-token\" fill=\"currentColor\" text-anchor=\"middle\" y=\"309.5\">\n",
       "    <tspan class=\"displacy-word\" fill=\"currentColor\" x=\"750\">before</tspan>\n",
       "    <tspan class=\"displacy-tag\" dy=\"2em\" fill=\"currentColor\" x=\"750\">ADP</tspan>\n",
       "</text>\n",
       "\n",
       "<text class=\"displacy-token\" fill=\"currentColor\" text-anchor=\"middle\" y=\"309.5\">\n",
       "    <tspan class=\"displacy-word\" fill=\"currentColor\" x=\"925\">serving</tspan>\n",
       "    <tspan class=\"displacy-tag\" dy=\"2em\" fill=\"currentColor\" x=\"925\">VERB</tspan>\n",
       "</text>\n",
       "\n",
       "<g class=\"displacy-arrow\">\n",
       "    <path class=\"displacy-arc\" id=\"arrow-ff701974f97345aebe4b22ba4a6e92e3-0-0\" stroke-width=\"2px\" d=\"M70,264.5 C70,177.0 215.0,177.0 215.0,264.5\" fill=\"none\" stroke=\"currentColor\"/>\n",
       "    <text dy=\"1.25em\" style=\"font-size: 0.8em; letter-spacing: 1px\">\n",
       "        <textPath xlink:href=\"#arrow-ff701974f97345aebe4b22ba4a6e92e3-0-0\" class=\"displacy-label\" startOffset=\"50%\" side=\"left\" fill=\"currentColor\" text-anchor=\"middle\">prep</textPath>\n",
       "    </text>\n",
       "    <path class=\"displacy-arrowhead\" d=\"M215.0,266.5 L223.0,254.5 207.0,254.5\" fill=\"currentColor\"/>\n",
       "</g>\n",
       "\n",
       "<g class=\"displacy-arrow\">\n",
       "    <path class=\"displacy-arc\" id=\"arrow-ff701974f97345aebe4b22ba4a6e92e3-0-1\" stroke-width=\"2px\" d=\"M420,264.5 C420,177.0 565.0,177.0 565.0,264.5\" fill=\"none\" stroke=\"currentColor\"/>\n",
       "    <text dy=\"1.25em\" style=\"font-size: 0.8em; letter-spacing: 1px\">\n",
       "        <textPath xlink:href=\"#arrow-ff701974f97345aebe4b22ba4a6e92e3-0-1\" class=\"displacy-label\" startOffset=\"50%\" side=\"left\" fill=\"currentColor\" text-anchor=\"middle\">nummod</textPath>\n",
       "    </text>\n",
       "    <path class=\"displacy-arrowhead\" d=\"M420,266.5 L412,254.5 428,254.5\" fill=\"currentColor\"/>\n",
       "</g>\n",
       "\n",
       "<g class=\"displacy-arrow\">\n",
       "    <path class=\"displacy-arc\" id=\"arrow-ff701974f97345aebe4b22ba4a6e92e3-0-2\" stroke-width=\"2px\" d=\"M245,264.5 C245,89.5 570.0,89.5 570.0,264.5\" fill=\"none\" stroke=\"currentColor\"/>\n",
       "    <text dy=\"1.25em\" style=\"font-size: 0.8em; letter-spacing: 1px\">\n",
       "        <textPath xlink:href=\"#arrow-ff701974f97345aebe4b22ba4a6e92e3-0-2\" class=\"displacy-label\" startOffset=\"50%\" side=\"left\" fill=\"currentColor\" text-anchor=\"middle\">pobj</textPath>\n",
       "    </text>\n",
       "    <path class=\"displacy-arrowhead\" d=\"M570.0,266.5 L578.0,254.5 562.0,254.5\" fill=\"currentColor\"/>\n",
       "</g>\n",
       "\n",
       "<g class=\"displacy-arrow\">\n",
       "    <path class=\"displacy-arc\" id=\"arrow-ff701974f97345aebe4b22ba4a6e92e3-0-3\" stroke-width=\"2px\" d=\"M70,264.5 C70,2.0 750.0,2.0 750.0,264.5\" fill=\"none\" stroke=\"currentColor\"/>\n",
       "    <text dy=\"1.25em\" style=\"font-size: 0.8em; letter-spacing: 1px\">\n",
       "        <textPath xlink:href=\"#arrow-ff701974f97345aebe4b22ba4a6e92e3-0-3\" class=\"displacy-label\" startOffset=\"50%\" side=\"left\" fill=\"currentColor\" text-anchor=\"middle\">prep</textPath>\n",
       "    </text>\n",
       "    <path class=\"displacy-arrowhead\" d=\"M750.0,266.5 L758.0,254.5 742.0,254.5\" fill=\"currentColor\"/>\n",
       "</g>\n",
       "\n",
       "<g class=\"displacy-arrow\">\n",
       "    <path class=\"displacy-arc\" id=\"arrow-ff701974f97345aebe4b22ba4a6e92e3-0-4\" stroke-width=\"2px\" d=\"M770,264.5 C770,177.0 915.0,177.0 915.0,264.5\" fill=\"none\" stroke=\"currentColor\"/>\n",
       "    <text dy=\"1.25em\" style=\"font-size: 0.8em; letter-spacing: 1px\">\n",
       "        <textPath xlink:href=\"#arrow-ff701974f97345aebe4b22ba4a6e92e3-0-4\" class=\"displacy-label\" startOffset=\"50%\" side=\"left\" fill=\"currentColor\" text-anchor=\"middle\">pcomp</textPath>\n",
       "    </text>\n",
       "    <path class=\"displacy-arrowhead\" d=\"M915.0,266.5 L923.0,254.5 907.0,254.5\" fill=\"currentColor\"/>\n",
       "</g>\n",
       "</svg></span>"
      ],
      "text/plain": [
       "<IPython.core.display.HTML object>"
      ]
     },
     "metadata": {},
     "output_type": "display_data"
    }
   ],
   "source": [
    "\n",
    "# doc = nlp(\"Bake for 55 to 60 minutes, or until filling is set\")\n",
    "doc = nlp('Cool for 10 minutes before serving')\n",
    "for token in doc:\n",
    "    print(token, token.text, token.pos_, token.tag_, token.dep_, token.shape_, token.is_alpha, token.is_stop, token.children, token.head)\n",
    "#     print(token.head, token.text)\n",
    "displacy.render(doc, style=\"dep\")\n"
   ]
  },
  {
   "cell_type": "code",
   "execution_count": 3,
   "id": "selective-computer",
   "metadata": {},
   "outputs": [],
   "source": [
    "def find_head(key, d):\n",
    "    if key not in d:\n",
    "        return key\n",
    "    else:\n",
    "        find_head(d[key], d)"
   ]
  },
  {
   "cell_type": "code",
   "execution_count": 19,
   "id": "respected-assumption",
   "metadata": {},
   "outputs": [],
   "source": [
    "# Methods function\n",
    "\n",
    "def find_methods(step):\n",
    "    newstep = step\n",
    "\n",
    "    doc = nlp(newstep)\n",
    "    methods = {}\n",
    "    timescale = {}\n",
    "    times = {}\n",
    "    connector = {}\n",
    "    for i, entity in enumerate(doc):\n",
    "        if entity.pos_ == \"VERB\":  #and str(entity.head) == str(entity.text)\n",
    "            methods[entity] = {'times':[], 'scale':None}\n",
    "        if entity.dep_ == \"pobj\" or entity.dep_ == 'dobj':\n",
    "            timescale[entity] = entity.head\n",
    "        if entity.pos_ == \"NUM\" and (entity.dep_ == 'quantmod' or entity.dep_ == 'nummod'):\n",
    "            times[entity] = entity.head\n",
    "#         for m in methods:\n",
    "#             if entity.head == m and str(entity.text) != str(entity.head):\n",
    "#                 connector[entity] = m\n",
    "        if str(entity.text) != str(entity.head):\n",
    "            connector[entity] = entity.head\n",
    "            \n",
    "    if not methods:\n",
    "        return {}\n",
    "    for m in methods:\n",
    "        if m in connector:\n",
    "            n = connector[m]\n",
    "            if n not in methods:\n",
    "                connector[n] = m\n",
    "                connector.pop(m)\n",
    "    \n",
    "    for scale in timescale:\n",
    "        while timescale[scale] not in methods:\n",
    "            if timescale[scale] not in connector:\n",
    "                print(\"Error in dependency parsing\")\n",
    "                break\n",
    "            timescale[scale] = connector[timescale[scale]]\n",
    "            \n",
    "    for time in times:\n",
    "        if times[time] in times:\n",
    "            times[time] = times[times[time]]\n",
    "    \n",
    "    for s in timescale:\n",
    "        for t in times:\n",
    "            if times[t] == s:\n",
    "                try:\n",
    "                    methods[timescale[s]]['times'].append(float(str(t)))\n",
    "                except:\n",
    "                    print(t)\n",
    "                    methods[timescale[s]]['times'].append(float(w2n.word_to_num(str(t))))\n",
    "        methods[timescale[s]]['scale'] = str(s)\n",
    "        \n",
    "    M = {}\n",
    "    for m in methods:\n",
    "        if methods[m]['scale'] == 'seconds':\n",
    "            methods[m]['times'] = [t/60 for t in methods[m]['times']]\n",
    "            methods[m]['scale'] = 'minutes'\n",
    "        elif methods[m]['scale'] == 'hours':\n",
    "            methods[m]['times'] = [t*60 for t in methods[m]['times']]\n",
    "            methods[m]['scale'] = 'minutes'\n",
    "            \n",
    "        val = methods[m]\n",
    "        M[str(m).lower()] = val\n",
    "    \n",
    "    ## get indices of times, pobj (minutes, hours, days, etc), and method, and use distance to see which ones belong to which one.\n",
    "\n",
    "    return M"
   ]
  },
  {
   "cell_type": "code",
   "execution_count": 20,
   "id": "backed-nature",
   "metadata": {},
   "outputs": [
    {
     "name": "stdout",
     "output_type": "stream",
     "text": [
      "one\n",
      "{'beat': {'times': [1.0], 'scale': 'time'}}\n"
     ]
    }
   ],
   "source": [
    "m = find_methods('Beat in eggs one at a time')\n",
    "print(m)"
   ]
  },
  {
   "cell_type": "code",
   "execution_count": 30,
   "id": "agreed-greeting",
   "metadata": {},
   "outputs": [
    {
     "ename": "SyntaxError",
     "evalue": "invalid syntax (<ipython-input-30-d94445d8f978>, line 1)",
     "output_type": "error",
     "traceback": [
      "\u001b[1;36m  File \u001b[1;32m\"<ipython-input-30-d94445d8f978>\"\u001b[1;36m, line \u001b[1;32m1\u001b[0m\n\u001b[1;33m    find_head(Bake, {Bake: apple, for: apple, 35: 45, to: 45, 45: minutes, minutes: for})\u001b[0m\n\u001b[1;37m                                  ^\u001b[0m\n\u001b[1;31mSyntaxError\u001b[0m\u001b[1;31m:\u001b[0m invalid syntax\n"
     ]
    }
   ],
   "source": []
  },
  {
   "cell_type": "code",
   "execution_count": 7,
   "id": "dimensional-wireless",
   "metadata": {},
   "outputs": [
    {
     "name": "stdout",
     "output_type": "stream",
     "text": [
      "{'filling': 2, 'minutes': 5}\n",
      "{'55': 8, 'Bake': 10}\n"
     ]
    }
   ],
   "source": [
    "print(m)\n",
    "print(t)"
   ]
  }
 ],
 "metadata": {
  "kernelspec": {
   "display_name": "Python 3",
   "language": "python",
   "name": "python3"
  },
  "language_info": {
   "codemirror_mode": {
    "name": "ipython",
    "version": 3
   },
   "file_extension": ".py",
   "mimetype": "text/x-python",
   "name": "python",
   "nbconvert_exporter": "python",
   "pygments_lexer": "ipython3",
   "version": "3.9.1"
  }
 },
 "nbformat": 4,
 "nbformat_minor": 5
}
