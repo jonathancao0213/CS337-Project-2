{
 "cells": [
  {
   "cell_type": "code",
   "execution_count": 1,
   "metadata": {},
   "outputs": [],
   "source": [
    "import spacy\n",
    "from spacy import displacy\n",
    "from spacy.matcher import Matcher\n",
    "from spacy.tokens import Span\n",
    "nlp = spacy.load('en_core_web_sm')\n",
    "from string import punctuation"
   ]
  },
  {
   "cell_type": "code",
   "execution_count": 2,
   "metadata": {},
   "outputs": [
    {
     "name": "stdout",
     "output_type": "stream",
     "text": [
      "Bake Bake VERB VB ROOT Xxxx True False <generator object at 0x000002D225792AF0> Bake\n",
      "for for ADP IN prep xxx True True <generator object at 0x000002D225792AF0> Bake\n",
      "55 55 NUM CD quantmod dd False False <generator object at 0x000002D20902DA60> 60\n",
      "to to PART TO quantmod xx True True <generator object at 0x000002D20902DA60> 60\n",
      "60 60 NUM CD nummod dd False False <generator object at 0x000002D20902DA60> minutes\n",
      "minutes minutes NOUN NNS pobj xxxx True False <generator object at 0x000002D20902DA60> for\n",
      ", , PUNCT , punct , False False <generator object at 0x000002D20902DA60> Bake\n",
      "then then ADV RB advmod xxxx True True <generator object at 0x000002D20902DA60> Bake\n",
      "rest rest VERB VB dep xxxx True False <generator object at 0x000002D20902DA60> Bake\n",
      "for for ADP IN prep xxx True True <generator object at 0x000002D20902DA60> rest\n",
      "45 45 NUM CD quantmod dd False False <generator object at 0x000002D20902DA60> 55\n",
      "to to PART TO quantmod xx True True <generator object at 0x000002D20902DA60> 55\n",
      "55 55 NUM CD nummod dd False False <generator object at 0x000002D20902DA60> minutes\n",
      "minutes minutes NOUN NNS pobj xxxx True False <generator object at 0x000002D20902DA60> for\n"
     ]
    }
   ],
   "source": [
    "\n",
    "# doc = nlp(\"Bake for 55 to 60 minutes, or until filling is set\")\n",
    "doc = nlp('Bake for 55 to 60 minutes, then rest for 45 to 55 minutes')\n",
    "for token in doc:\n",
    "    print(token, token.text, token.pos_, token.tag_, token.dep_, token.shape_, token.is_alpha, token.is_stop, token.children, token.head)\n",
    "#     print(token.head, token.text)\n",
    "#     displacy.render(doc, style=\"dep\")\n"
   ]
  },
  {
   "cell_type": "code",
   "execution_count": 3,
   "metadata": {},
   "outputs": [],
   "source": [
    "def findMethod(step):\n",
    "    newstep = step\n",
    "\n",
    "    doc = nlp(newstep)\n",
    "    methods = {}\n",
    "    timescale = {}\n",
    "    times = {}\n",
    "    connector = {}\n",
    "    for i, entity in enumerate(doc):\n",
    "        if entity.pos_ == \"VERB\":  #and str(entity.head) == str(entity.text)\n",
    "            methods[entity] = {'times':[], 'scale':None}\n",
    "        if entity.dep_ == \"pobj\":\n",
    "            timescale[entity] = entity.head\n",
    "        if entity.pos_ == \"NUM\" and (entity.dep_ == 'quantmod' or entity.dep_ == 'nummod'):\n",
    "            times[entity] = entity.head\n",
    "        for m in methods:\n",
    "            if entity.head == m and str(entity.text) != str(entity.head):\n",
    "                connector[entity] = m\n",
    "    \n",
    "    for scale in timescale:\n",
    "        while timescale[scale] not in methods:\n",
    "            if not connector[timescale[scale]]:\n",
    "                print(\"Error in dependency parsing\")\n",
    "                break\n",
    "            timescale[scale] = connector[timescale[scale]]\n",
    "            \n",
    "    for time in times:\n",
    "        if times[time] in times:\n",
    "            times[time] = times[times[time]]\n",
    "    \n",
    "    for s in timescale:\n",
    "        for t in times:\n",
    "            if times[t] == s:\n",
    "                methods[timescale[s]]['times'].append(float(str(t)))\n",
    "        methods[timescale[s]]['scale'] = str(s)\n",
    "        \n",
    "    for m in methods:\n",
    "        if methods[m]['scale'] == 'seconds':\n",
    "            methods[m]['times'] = [t/60 for t in methods[m]['times']]\n",
    "            methods[m]['scale'] = 'minutes'\n",
    "        elif methods[m]['scale'] == 'hours':\n",
    "            methods[m]['times'] = [t*60 for t in methods[m]['times']]\n",
    "            methods[m]['scale'] = 'minutes'\n",
    "    \n",
    "    ## get indices of times, pobj (minutes, hours, days, etc), and method, and use distance to see which ones belong to which one.\n",
    "\n",
    "    return methods"
   ]
  },
  {
   "cell_type": "code",
   "execution_count": 4,
   "metadata": {},
   "outputs": [
    {
     "name": "stdout",
     "output_type": "stream",
     "text": [
      "{Bake: {'times': [55.0, 60.0], 'scale': 'minutes'}, cook: {'times': [90.0], 'scale': 'minutes'}}\n"
     ]
    }
   ],
   "source": [
    "m = findMethod('Bake for 55 to 60 minutes, then cook for 1.5 hours')\n",
    "print(m)"
   ]
  },
  {
   "cell_type": "code",
   "execution_count": 7,
   "metadata": {},
   "outputs": [
    {
     "name": "stdout",
     "output_type": "stream",
     "text": [
      "{'filling': 2, 'minutes': 5}\n",
      "{'55': 8, 'Bake': 10}\n"
     ]
    }
   ],
   "source": [
    "print(m)\n",
    "print(t)"
   ]
  }
 ],
 "metadata": {
  "kernelspec": {
   "display_name": "Python 3",
   "language": "python",
   "name": "python3"
  },
  "language_info": {
   "codemirror_mode": {
    "name": "ipython",
    "version": 3
   },
   "file_extension": ".py",
   "mimetype": "text/x-python",
   "name": "python",
   "nbconvert_exporter": "python",
   "pygments_lexer": "ipython3",
   "version": "3.8.5"
  }
 },
 "nbformat": 4,
 "nbformat_minor": 5
}
