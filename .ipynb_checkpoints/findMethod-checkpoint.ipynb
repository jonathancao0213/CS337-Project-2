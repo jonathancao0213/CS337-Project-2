{
 "cells": [
  {
   "cell_type": "code",
   "execution_count": 1,
   "id": "noble-defensive",
   "metadata": {},
   "outputs": [],
   "source": [
    "import spacy\n",
    "from spacy import displacy\n",
    "from spacy.matcher import Matcher\n",
    "from spacy.tokens import Span\n",
    "nlp = spacy.load('en_core_web_sm')\n",
    "from string import punctuation"
   ]
  },
  {
   "cell_type": "code",
   "execution_count": 13,
   "id": "southeast-diving",
   "metadata": {},
   "outputs": [
    {
     "name": "stdout",
     "output_type": "stream",
     "text": [
      "bake bake PROPN NNP ROOT xxxx True False <generator object at 0x000001F948E38C10> bake\n",
      "apple apple PROPN NNP npadvmod xxxx True False <generator object at 0x000001F948E38C10> bake\n",
      "35 35 NUM CD quantmod dd False False <generator object at 0x000001F94800C9D0> 45\n",
      "to to ADP IN quantmod xx True True <generator object at 0x000001F94800C9D0> 45\n",
      "45 45 NUM CD nummod dd False False <generator object at 0x000001F94800C9D0> minutes\n",
      "minutes minutes NOUN NNS npadvmod xxxx True False <generator object at 0x000001F94800C9D0> bake\n"
     ]
    }
   ],
   "source": [
    "\n",
    "# doc = nlp(\"Bake for 55 to 60 minutes, or until filling is set\")\n",
    "doc = nlp('bake apple 35 to 45 minutes')\n",
    "for token in doc:\n",
    "    print(token, token.text, token.pos_, token.tag_, token.dep_, token.shape_, token.is_alpha, token.is_stop, token.children, token.head)\n",
    "#     print(token.head, token.text)\n",
    "#     displacy.render(doc, style=\"dep\")\n"
   ]
  },
  {
   "cell_type": "code",
   "execution_count": 3,
   "id": "selective-computer",
   "metadata": {},
   "outputs": [],
   "source": [
    "def find_head(key, d):\n",
    "    if key not in d:\n",
    "        return key\n",
    "    else:\n",
    "        find_head(d[key], d)"
   ]
  },
  {
   "cell_type": "code",
   "execution_count": 22,
   "id": "respected-assumption",
   "metadata": {},
   "outputs": [],
   "source": [
    "# Methods Function\n",
    "\n",
    "def find_methods(step):\n",
    "    newstep = step\n",
    "\n",
    "    doc = nlp(newstep)\n",
    "    methods = {}\n",
    "    timescale = {}\n",
    "    times = {}\n",
    "    connector = {}\n",
    "    for i, entity in enumerate(doc):\n",
    "        if entity.pos_ == \"VERB\":  #and str(entity.head) == str(entity.text)\n",
    "            methods[entity] = {'times':[], 'scale':None}\n",
    "        if entity.dep_ == \"pobj\":\n",
    "            timescale[entity] = entity.head\n",
    "        if entity.pos_ == \"NUM\" and (entity.dep_ == 'quantmod' or entity.dep_ == 'nummod'):\n",
    "            times[entity] = entity.head\n",
    "#         for m in methods:\n",
    "#             if entity.head == m and str(entity.text) != str(entity.head):\n",
    "#                 connector[entity] = m\n",
    "        if str(entity.text) != str(entity.head):\n",
    "            connector[entity] = entity.head\n",
    "\n",
    "    for m in methods:\n",
    "        if m in connector:\n",
    "            n = connector[m]\n",
    "            if n not in methods:\n",
    "                connector[n] = m\n",
    "                connector.pop(m)\n",
    "    \n",
    "    for scale in timescale:\n",
    "        while timescale[scale] not in methods:\n",
    "            print(timescale[scale])\n",
    "            if timescale[scale] not in connector:\n",
    "                print(\"Error in dependency parsing\")\n",
    "                break\n",
    "            timescale[scale] = connector[timescale[scale]]\n",
    "            \n",
    "    for time in times:\n",
    "        if times[time] in times:\n",
    "            times[time] = times[times[time]]\n",
    "    \n",
    "    for s in timescale:\n",
    "        for t in times:\n",
    "            if times[t] == s:\n",
    "                methods[timescale[s]]['times'].append(float(str(t)))\n",
    "        methods[timescale[s]]['scale'] = str(s)\n",
    "        \n",
    "    for m in methods:\n",
    "        if methods[m]['scale'] == 'seconds':\n",
    "            methods[m]['times'] = [t/60 for t in methods[m]['times']]\n",
    "            methods[m]['scale'] = 'minutes'\n",
    "        elif methods[m]['scale'] == 'hours':\n",
    "            methods[m]['times'] = [t*60 for t in methods[m]['times']]\n",
    "            methods[m]['scale'] = 'minutes'\n",
    "    \n",
    "    ## get indices of times, pobj (minutes, hours, days, etc), and method, and use distance to see which ones belong to which one.\n",
    "\n",
    "    return methods"
   ]
  },
  {
   "cell_type": "code",
   "execution_count": 26,
   "id": "backed-nature",
   "metadata": {},
   "outputs": [
    {
     "name": "stdout",
     "output_type": "stream",
     "text": [
      "{Bake: apple, for: apple, however: long, long: for}\n",
      "{long: for}\n",
      "{}\n",
      "{for: apple, however: long, long: for, apple: Bake}\n",
      "for\n",
      "apple\n",
      "{Bake: {'times': [], 'scale': 'long'}}\n"
     ]
    }
   ],
   "source": [
    "m = find_methods('Bake apple for however long')\n",
    "print(m)"
   ]
  },
  {
   "cell_type": "code",
   "execution_count": 30,
   "id": "agreed-greeting",
   "metadata": {},
   "outputs": [
    {
     "ename": "SyntaxError",
     "evalue": "invalid syntax (<ipython-input-30-d94445d8f978>, line 1)",
     "output_type": "error",
     "traceback": [
      "\u001b[1;36m  File \u001b[1;32m\"<ipython-input-30-d94445d8f978>\"\u001b[1;36m, line \u001b[1;32m1\u001b[0m\n\u001b[1;33m    find_head(Bake, {Bake: apple, for: apple, 35: 45, to: 45, 45: minutes, minutes: for})\u001b[0m\n\u001b[1;37m                                  ^\u001b[0m\n\u001b[1;31mSyntaxError\u001b[0m\u001b[1;31m:\u001b[0m invalid syntax\n"
     ]
    }
   ],
   "source": []
  },
  {
   "cell_type": "code",
   "execution_count": 7,
   "id": "dimensional-wireless",
   "metadata": {},
   "outputs": [
    {
     "name": "stdout",
     "output_type": "stream",
     "text": [
      "{'filling': 2, 'minutes': 5}\n",
      "{'55': 8, 'Bake': 10}\n"
     ]
    }
   ],
   "source": [
    "print(m)\n",
    "print(t)"
   ]
  }
 ],
 "metadata": {
  "kernelspec": {
   "display_name": "Python 3",
   "language": "python",
   "name": "python3"
  },
  "language_info": {
   "codemirror_mode": {
    "name": "ipython",
    "version": 3
   },
   "file_extension": ".py",
   "mimetype": "text/x-python",
   "name": "python",
   "nbconvert_exporter": "python",
   "pygments_lexer": "ipython3",
   "version": "3.9.1"
  }
 },
 "nbformat": 4,
 "nbformat_minor": 5
}
