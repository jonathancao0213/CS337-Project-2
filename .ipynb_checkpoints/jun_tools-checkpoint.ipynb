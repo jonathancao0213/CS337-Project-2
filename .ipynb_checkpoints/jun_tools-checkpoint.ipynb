{
 "cells": [
  {
   "cell_type": "code",
   "execution_count": 286,
   "id": "complete-board",
   "metadata": {},
   "outputs": [],
   "source": [
    "import requests\n",
    "import bs4\n",
    "from bs4 import BeautifulSoup as soup\n",
    "import json\n",
    "import pandas\n",
    "from pandas import DataFrame\n",
    "import spacy\n",
    "from spacy.matcher import Matcher\n",
    "from spacy.tokens import Span\n",
    "from spacy import displacy\n",
    "from collections import defaultdict\n",
    "nlp = spacy.load('en_core_web_md')\n",
    "from string import punctuation\n",
    "import itertools"
   ]
  },
  {
   "cell_type": "code",
   "execution_count": 287,
   "id": "dominant-attendance",
   "metadata": {},
   "outputs": [],
   "source": [
    "from collections import defaultdict"
   ]
  },
  {
   "cell_type": "code",
   "execution_count": 288,
   "id": "deluxe-server",
   "metadata": {},
   "outputs": [],
   "source": [
    "def get_ld_json(url: str) -> dict:\n",
    "    parser = \"html.parser\"\n",
    "    req = requests.get(url)\n",
    "    page = soup(req.text, parser)\n",
    "    return json.loads(\"\".join(page.find(\"script\", {\"type\":\"application/ld+json\"}).contents))\n",
    "def get_ingredientScript(url):\n",
    "    jsonld = get_ld_json(url)\n",
    "    useful = jsonld[1]\n",
    "    ingredients = useful[\"recipeIngredient\"]\n",
    "    return ingredients\n",
    "def parse_ingredients(url):\n",
    "    ingredients = get_ingredientScript(url)\n",
    "    df = DataFrame (ingredients,columns=['ingredients'])\n",
    "    # 2 cases\n",
    "    # \"number\" (\"()\") (\"unit\") (adjective) \"noun/subject - ingredient\" (, other)\n",
    "    # contains \"to taste\"\n",
    "    df = df[\"ingredients\"]\n",
    "    df_taste = df[df.str.contains('to taste', case = False)]\n",
    "    \n",
    "    df_unit = df[~df.str.contains('to taste', case = False)]\n",
    "    \n",
    "    # array of arrays: each array is amount, unit, ingredient, descriptor, preparation\n",
    "    ingredients_parsed = []\n",
    "    \n",
    "    for i in df:\n",
    "        curr_arr = [\"\", \"\", \"\", \"\", \"\"]\n",
    "        print(i)\n",
    "        if 'to taste' not in i:\n",
    "        \n",
    "            # before we look at POS, remove everything after the comma and put it in prep\n",
    "            split_string = i.split(\", \", 1)\n",
    "            root_phrase = split_string[0]\n",
    "            if len(split_string) > 1:\n",
    "                other_piece = split_string[1]\n",
    "            else:\n",
    "                other_piece = \"\"\n",
    "\n",
    "            curr_arr[4] = other_piece\n",
    "\n",
    "            split_string2 = root_phrase.split(\"(\", 1)\n",
    "            if len(split_string2) > 1:\n",
    "                split_string3 = split_string2[1].split(\")\", 1)\n",
    "                curr_arr[3] = split_string3[0]\n",
    "                root_phrase = split_string2[0].strip() + split_string3[1]\n",
    "            doc = nlp(root_phrase)\n",
    "            index = 0\n",
    "            for token in doc:\n",
    "                found_num = False\n",
    "                # only get first number if it matches criteria\n",
    "                #if found_num == False and token.pos_ == \"NOUN\" and not token.is_alpha or token.pos_ == \"NUM\":\n",
    "                if index == 0:\n",
    "                    curr_arr[0] = token.text\n",
    "                elif index == 1:\n",
    "                    if token.pos_ != \"ADJ\":\n",
    "                        curr_arr[1] = token.text\n",
    "                    else:\n",
    "                        curr_arr[3] = token.text\n",
    "                elif token.dep_ == \"ROOT\":\n",
    "                    curr_arr[2] = token.text\n",
    "                else: \n",
    "                    curr_arr[3] = curr_arr[3] + \" \" + token.text\n",
    "                    curr_arr[3] = curr_arr[3].strip()\n",
    "                index+=1\n",
    "        else:\n",
    "            i = i.replace(\"to taste\", \"\")\n",
    "            doc = nlp(i)\n",
    "            curr_arr[0] = \"to taste\"\n",
    "            for token in doc:\n",
    "                if token.dep_ == \"ROOT\":\n",
    "                    curr_arr[2] = token.text\n",
    "                else:\n",
    "                    curr_arr[3] = curr_arr[3] + \" \" + token.text\n",
    "                    curr_arr[3] = curr_arr[3].strip()\n",
    "        ingredients_parsed.append(curr_arr)\n",
    "        #print(token.text, token.pos_, token.tag_, token.dep_, token.shape_, token.is_alpha, token.is_stop, token.children, token.head)\n",
    "        #displacy.render(doc, style=\"dep\") # change to serve when we go to python\n",
    "\n",
    "\n",
    "    \n",
    "    return ingredients_parsed"
   ]
  },
  {
   "cell_type": "code",
   "execution_count": 289,
   "id": "coordinate-shepherd",
   "metadata": {},
   "outputs": [],
   "source": [
    "url1 = \"https://www.allrecipes.com/recipe/232580\""
   ]
  },
  {
   "cell_type": "code",
   "execution_count": 290,
   "id": "sacred-tokyo",
   "metadata": {},
   "outputs": [
    {
     "name": "stdout",
     "output_type": "stream",
     "text": [
      "[{'@context': 'http://schema.org', '@type': 'BreadcrumbList', 'itemListElement': [{'@type': 'ListItem', 'position': 1, 'item': {'@id': 'https://www.allrecipes.com/', 'name': 'Home', 'image': None}}, {'@type': 'ListItem', 'position': 2, 'item': {'@id': 'https://www.allrecipes.com/recipes/', 'name': 'Recipes', 'image': None}}, {'@type': 'ListItem', 'position': 3, 'item': {'@id': 'https://www.allrecipes.com/recipes/92/meat-and-poultry/', 'name': 'Meat and Poultry Recipes', 'image': None}}, {'@type': 'ListItem', 'position': 4, 'item': {'@id': 'https://www.allrecipes.com/recipes/201/meat-and-poultry/chicken/', 'name': 'Chicken', 'image': None}}, {'@type': 'ListItem', 'position': 5, 'item': {'@id': 'https://www.allrecipes.com/recipes/659/meat-and-poultry/chicken/chicken-breasts/', 'name': 'Chicken Breast Recipes', 'image': None}}, {'@type': 'ListItem', 'position': 6, 'item': {'@id': 'https://www.allrecipes.com/recipes/1960/meat-and-poultry/chicken/chicken-breasts/creamy/', 'name': 'Creamy', 'image': None}}]}, {'@context': 'http://schema.org', '@type': 'Recipe', 'mainEntityOfPage': 'https://www.allrecipes.com/recipe/232580/chicken-zucchini-rice-casserole/', 'name': 'Chicken Zucchini Rice Casserole', 'image': {'@type': 'ImageObject', 'url': 'https://imagesvc.meredithcorp.io/v3/mm/image?url=https%3A%2F%2Fimages.media-allrecipes.com%2Fuserphotos%2F6831102.jpg', 'width': 3024, 'height': 3025}, 'datePublished': '2019-07-10T07:04:30.000Z', 'description': 'This is a yummy alternative to all the chicken casseroles out there, and my kids even love it!', 'prepTime': 'P0DT0H20M', 'cookTime': 'P0DT1H0M', 'totalTime': 'P0DT1H20M', 'recipeYield': '1 9x13-inch casserole', 'recipeIngredient': ['2 cups boiling water', '1 cup uncooked white rice', '2 cubes  chicken bouillon', '1 tablespoon olive oil', '1 cup thinly sliced zucchini', '½ cup diced celery', '½ cup diced onion', '1 (10.75 ounce) can  condensed cream of mushroom soup', '1 (10.75 ounce) can  condensed cream of mushroom soup with roasted garlic', '1 (8 ounce) can sliced water chestnuts, drained', '1 cup diced cooked chicken', '½ cup mayonnaise', '1 teaspoon lemon juice', '1 (3 ounce) can French-fried onions'], 'recipeInstructions': [{'@type': 'HowToStep', 'text': 'Bring water, rice, and chicken bouillon to a boil in a saucepan. Reduce heat to medium-low, cover, and simmer until the rice is tender and liquid is absorbed, 20 to 25 minutes.\\n'}, {'@type': 'HowToStep', 'text': 'Preheat oven to 350 degrees F (175 degrees C). Grease a 9x13-inch baking dish.\\n'}, {'@type': 'HowToStep', 'text': 'Heat olive oil in a large skillet over medium heat; cook and stir zucchini, celery, and onion in hot oil until tender, about 5 minutes. Stir rice, cream of mushroom soup, cream of mushroom soup with roasted garlic, water chestnuts, chicken, mayonnaise, and lemon juice into vegetable mixture. Transfer mixture to prepared baking dish. Spread French-fried onions over rice mixture.\\n'}, {'@type': 'HowToStep', 'text': 'Bake in the preheated oven until bubbly and lightly browned, 30 to 35 minutes.\\n'}], 'recipeCategory': ['Meat and Poultry Recipes', 'Chicken', 'Chicken Breast Recipes', 'Creamy'], 'recipeCuisine': [], 'author': [{'@type': 'Person', 'name': 'JoLana'}], 'aggregateRating': {'@type': 'AggregateRating', 'ratingValue': 3.9444444444444446, 'ratingCount': 18, 'itemReviewed': 'Chicken Zucchini Rice Casserole', 'bestRating': '5', 'worstRating': '1'}, 'nutrition': {'@type': 'NutritionInformation', 'calories': '368.4 calories', 'carbohydrateContent': '35.3 g', 'cholesterolContent': '15.7 mg', 'fatContent': '22 g', 'fiberContent': '1.8 g', 'proteinContent': '6.6 g', 'saturatedFatContent': '4.5 g', 'servingSize': None, 'sodiumContent': '869 mg', 'sugarContent': '3.2 g', 'transFatContent': None, 'unsaturatedFatContent': None}, 'review': [{'@type': 'Review', 'datePublished': '2013-05-11T08:14:50.997Z', 'reviewBody': 'Wonderful dish I will definitely make this again. This was the first casserole I have ever made it was very easy to follow the instructions and end up with a delicious meal.', 'reviewRating': {'@type': 'Rating', 'worstRating': '1', 'bestRating': '5', 'ratingValue': 4}, 'author': {'@type': 'Person', 'name': 'Herb Grizzle', 'image': None, 'sameAs': 'https://www.allrecipes.com/cook/11371828/'}}, {'@type': 'Review', 'datePublished': '2014-02-07T19:48:00.687Z', 'reviewBody': 'I added a whole med. zucchini broccoli and extra chicken. It was great!', 'reviewRating': {'@type': 'Rating', 'worstRating': '1', 'bestRating': '5', 'ratingValue': 4}, 'author': {'@type': 'Person', 'name': 'Andrea', 'image': None, 'sameAs': 'https://www.allrecipes.com/cook/6799117/'}}, {'@type': 'Review', 'datePublished': '2013-10-29T00:11:46.097Z', 'reviewBody': \"Thought this had a really nice flavor! Oven wasn't working so I just fried my veggies and threw all the rest in a pot on top of the stove until rice was done. Had to watch it a bit more but turned out great. Didn't have chestnuts so added a can of bamboo shoots and some red pepper for color!\", 'reviewRating': {'@type': 'Rating', 'worstRating': '1', 'bestRating': '5', 'ratingValue': 4}, 'author': {'@type': 'Person', 'name': 'Dyanne', 'image': None, 'sameAs': 'https://www.allrecipes.com/cook/3421127/'}}, {'@type': 'Review', 'datePublished': '2014-06-15T22:56:16.457Z', 'reviewBody': 'Very easy to make. The kids had no idea the zucchini was in there we have a lot shredded. There were no left overs. I also used long grain brown rice instead of white rice which my husband loves!!', 'reviewRating': {'@type': 'Rating', 'worstRating': '1', 'bestRating': '5', 'ratingValue': 5}, 'author': {'@type': 'Person', 'name': 'Cece', 'image': None, 'sameAs': 'https://www.allrecipes.com/cook/doublecmae/'}}, {'@type': 'Review', 'datePublished': '2017-01-01T23:43:35.307Z', 'reviewBody': \"Prepared as per the recipe and to be quite honest it tasted really bland. Don't think I'll use it again.\", 'reviewRating': {'@type': 'Rating', 'worstRating': '1', 'bestRating': '5', 'ratingValue': 2}, 'author': {'@type': 'Person', 'name': \"Mac's Ole House\", 'image': None, 'sameAs': 'https://www.allrecipes.com/cook/12140852/'}}, {'@type': 'Review', 'datePublished': '2016-11-28T08:28:36.493Z', 'reviewBody': \"This is delicious in it's original form BUT it works great for leftover Thanksgiving turkey. Chop some up and toss it in instead of chicken! I traded the cream of mushroom out for cream of chicken soup. I shredded the zucchini put in a cup of celery and omitted the water chestnuts. Not necessary and you get plenty of crunch from the celery. Not your typical leftover turkey recipe but SO delicious.\", 'reviewRating': {'@type': 'Rating', 'worstRating': '1', 'bestRating': '5', 'ratingValue': 5}, 'author': {'@type': 'Person', 'name': 'Cami Romney', 'image': None, 'sameAs': 'https://www.allrecipes.com/cook/7720604/'}}, {'@type': 'Review', 'datePublished': '2014-08-16T01:28:42.82Z', 'reviewBody': 'I used green beans instead of zucchini. I did not care for them. Over all the dish was good but not great.', 'reviewRating': {'@type': 'Rating', 'worstRating': '1', 'bestRating': '5', 'ratingValue': 3}, 'author': {'@type': 'Person', 'name': 'Ladymaslo', 'image': None, 'sameAs': 'https://www.allrecipes.com/cook/4040405/'}}, {'@type': 'Review', 'datePublished': '2017-04-03T09:38:09.277Z', 'reviewBody': 'Not worth eating again. Spent time purchasing items prepping cooking and then eating. Just okay. So not worth cooking again.', 'reviewRating': {'@type': 'Rating', 'worstRating': '1', 'bestRating': '5', 'ratingValue': 1}, 'author': {'@type': 'Person', 'name': 'JULIEMIN', 'image': None, 'sameAs': 'https://www.allrecipes.com/cook/1182970/'}}, {'@type': 'Review', 'datePublished': '2019-03-18T22:44:45.51Z', 'reviewBody': 'This dish is delicious! We regularly have different group sessions in our home and this is a regular on my list to serve! I will substitute cream of chicken for the mushroom sometimes or use one chicken and one mushroom. Still just as good.', 'reviewRating': {'@type': 'Rating', 'worstRating': '1', 'bestRating': '5', 'ratingValue': 5}, 'author': {'@type': 'Person', 'name': 'Dee', 'image': None, 'sameAs': 'https://www.allrecipes.com/cook/25230407/'}}]}]\n"
     ]
    }
   ],
   "source": [
    "json_ld = get_ld_json(url1)\n",
    "print(json_ld)"
   ]
  },
  {
   "cell_type": "code",
   "execution_count": 291,
   "id": "recorded-lewis",
   "metadata": {},
   "outputs": [
    {
     "name": "stdout",
     "output_type": "stream",
     "text": [
      "2 cups boiling water\n",
      "1 cup uncooked white rice\n",
      "2 cubes  chicken bouillon\n",
      "1 tablespoon olive oil\n",
      "1 cup thinly sliced zucchini\n",
      "½ cup diced celery\n",
      "½ cup diced onion\n",
      "1 (10.75 ounce) can  condensed cream of mushroom soup\n",
      "1 (10.75 ounce) can  condensed cream of mushroom soup with roasted garlic\n",
      "1 (8 ounce) can sliced water chestnuts, drained\n",
      "1 cup diced cooked chicken\n",
      "½ cup mayonnaise\n",
      "1 teaspoon lemon juice\n",
      "1 (3 ounce) can French-fried onions\n",
      "[['2', 'cups', 'boiling', 'water', ''], ['1', 'cup', 'uncooked', 'white rice', ''], ['2', 'cubes', '', 'chicken bouillon', ''], ['1', 'tablespoon', 'oil', 'olive', ''], ['1', 'cup', 'sliced', 'thinly zucchini', ''], ['½', 'cup', 'diced', 'celery', ''], ['½', 'cup', 'diced', 'onion', ''], ['1', 'can', 'cream', '10.75 ounce condensed of mushroom soup', ''], ['1', 'can', '', '10.75 ounce condensed cream of mushroom soup with roasted garlic', ''], ['1', 'can', 'sliced', '8 ounce water chestnuts', 'drained'], ['1', 'cup', 'diced', 'cooked chicken', ''], ['½', 'cup', 'mayonnaise', '', ''], ['1', 'teaspoon', 'juice', 'lemon', ''], ['1', 'can', '', '3 ounce French - fried onions', '']]\n"
     ]
    }
   ],
   "source": [
    "ing = parse_ingredients(url1)\n",
    "print(ing)"
   ]
  },
  {
   "cell_type": "code",
   "execution_count": 292,
   "id": "reverse-minutes",
   "metadata": {},
   "outputs": [
    {
     "name": "stdout",
     "output_type": "stream",
     "text": [
      "['mixture', '2', 'cups', 'boiling', 'water', '1', 'cup', 'uncooked', 'white', 'rice', 'cubes', 'chicken', 'bouillon', 'tablespoon', 'oil', 'olive', 'sliced', 'thinly', 'zucchini', '½', 'diced', 'celery', 'onion', 'can', 'cream', '10.75', 'ounce', 'condensed', 'of', 'mushroom', 'soup', 'with', 'roasted', 'garlic', '8', 'chestnuts', 'drained', 'cooked', 'mayonnaise', 'teaspoon', 'juice', 'lemon', '3', 'French', '-', 'fried', 'onions', 'casserole']\n"
     ]
    }
   ],
   "source": [
    "one_list = itertools.chain.from_iterable(ing)\n",
    "fil = list(dict.fromkeys(one_list))\n",
    "new = ['mixture']\n",
    "name = json_ld[1]['name']\n",
    "for ing in fil:\n",
    "    for word in ing.split():\n",
    "        new.append(word)\n",
    "for w in name.lower().split():\n",
    "    new.append(w)\n",
    "new = list(dict.fromkeys(new))\n",
    "print(new)"
   ]
  },
  {
   "cell_type": "code",
   "execution_count": 293,
   "id": "further-attack",
   "metadata": {},
   "outputs": [
    {
     "name": "stdout",
     "output_type": "stream",
     "text": [
      "Bring water, rice, and chicken bouillon to a boil in a saucepan. Reduce heat to medium-low, cover, and simmer until the rice is tender and liquid is absorbed, 20 to 25 minutes.\n",
      "Preheat oven to 350 degrees F (175 degrees C). Grease a 9x13-inch baking dish.\n",
      "Heat olive oil in a large skillet over medium heat; cook and stir zucchini, celery, and onion in hot oil until tender, about 5 minutes. Stir rice, cream of mushroom soup, cream of mushroom soup with roasted garlic, water chestnuts, chicken, mayonnaise, and lemon juice into vegetable mixture. Transfer mixture to prepared baking dish. Spread French-fried onions over rice mixture.\n",
      "Bake in the preheated oven until bubbly and lightly browned, 30 to 35 minutes.\n",
      "\n",
      "Chicken Zucchini Rice Casserole\n"
     ]
    }
   ],
   "source": [
    "text = json_ld[1]['recipeInstructions']\n",
    "if len(text) > 1:\n",
    "    new_text = ''\n",
    "    for i,t in enumerate(text):\n",
    "#         print(text[i]['text'])\n",
    "        new_text = new_text + text[i]['text']\n",
    "    text = new_text\n",
    "else:\n",
    "    text = text[0]['text']\n",
    "print(text)\n",
    "print(name)"
   ]
  },
  {
   "cell_type": "code",
   "execution_count": 294,
   "id": "wrong-armstrong",
   "metadata": {},
   "outputs": [
    {
     "name": "stdout",
     "output_type": "stream",
     "text": [
      "grease VERB ROOT grease VERB [pan] grease\n",
      "a DET det pan NOUN [] a\n",
      "10-inch NUM nummod tube NOUN [] 10-inch\n",
      "tube NOUN compound pan NOUN [10-inch] tube\n",
      "pan NOUN dobj grease VERB [a, tube] pan\n"
     ]
    },
    {
     "data": {
      "text/html": [
       "<span class=\"tex2jax_ignore\"><svg xmlns=\"http://www.w3.org/2000/svg\" xmlns:xlink=\"http://www.w3.org/1999/xlink\" xml:lang=\"en\" id=\"9b0df13a27444818a7b5aaa30f77d7ff-0\" class=\"displacy\" width=\"925\" height=\"399.5\" direction=\"ltr\" style=\"max-width: none; height: 399.5px; color: #000000; background: #ffffff; font-family: Arial; direction: ltr\">\n",
       "<text class=\"displacy-token\" fill=\"currentColor\" text-anchor=\"middle\" y=\"309.5\">\n",
       "    <tspan class=\"displacy-word\" fill=\"currentColor\" x=\"50\">grease</tspan>\n",
       "    <tspan class=\"displacy-tag\" dy=\"2em\" fill=\"currentColor\" x=\"50\">VERB</tspan>\n",
       "</text>\n",
       "\n",
       "<text class=\"displacy-token\" fill=\"currentColor\" text-anchor=\"middle\" y=\"309.5\">\n",
       "    <tspan class=\"displacy-word\" fill=\"currentColor\" x=\"225\">a</tspan>\n",
       "    <tspan class=\"displacy-tag\" dy=\"2em\" fill=\"currentColor\" x=\"225\">DET</tspan>\n",
       "</text>\n",
       "\n",
       "<text class=\"displacy-token\" fill=\"currentColor\" text-anchor=\"middle\" y=\"309.5\">\n",
       "    <tspan class=\"displacy-word\" fill=\"currentColor\" x=\"400\">10-inch</tspan>\n",
       "    <tspan class=\"displacy-tag\" dy=\"2em\" fill=\"currentColor\" x=\"400\">NUM</tspan>\n",
       "</text>\n",
       "\n",
       "<text class=\"displacy-token\" fill=\"currentColor\" text-anchor=\"middle\" y=\"309.5\">\n",
       "    <tspan class=\"displacy-word\" fill=\"currentColor\" x=\"575\">tube</tspan>\n",
       "    <tspan class=\"displacy-tag\" dy=\"2em\" fill=\"currentColor\" x=\"575\">NOUN</tspan>\n",
       "</text>\n",
       "\n",
       "<text class=\"displacy-token\" fill=\"currentColor\" text-anchor=\"middle\" y=\"309.5\">\n",
       "    <tspan class=\"displacy-word\" fill=\"currentColor\" x=\"750\">pan</tspan>\n",
       "    <tspan class=\"displacy-tag\" dy=\"2em\" fill=\"currentColor\" x=\"750\">NOUN</tspan>\n",
       "</text>\n",
       "\n",
       "<g class=\"displacy-arrow\">\n",
       "    <path class=\"displacy-arc\" id=\"arrow-9b0df13a27444818a7b5aaa30f77d7ff-0-0\" stroke-width=\"2px\" d=\"M245,264.5 C245,89.5 745.0,89.5 745.0,264.5\" fill=\"none\" stroke=\"currentColor\"/>\n",
       "    <text dy=\"1.25em\" style=\"font-size: 0.8em; letter-spacing: 1px\">\n",
       "        <textPath xlink:href=\"#arrow-9b0df13a27444818a7b5aaa30f77d7ff-0-0\" class=\"displacy-label\" startOffset=\"50%\" side=\"left\" fill=\"currentColor\" text-anchor=\"middle\">det</textPath>\n",
       "    </text>\n",
       "    <path class=\"displacy-arrowhead\" d=\"M245,266.5 L237,254.5 253,254.5\" fill=\"currentColor\"/>\n",
       "</g>\n",
       "\n",
       "<g class=\"displacy-arrow\">\n",
       "    <path class=\"displacy-arc\" id=\"arrow-9b0df13a27444818a7b5aaa30f77d7ff-0-1\" stroke-width=\"2px\" d=\"M420,264.5 C420,177.0 565.0,177.0 565.0,264.5\" fill=\"none\" stroke=\"currentColor\"/>\n",
       "    <text dy=\"1.25em\" style=\"font-size: 0.8em; letter-spacing: 1px\">\n",
       "        <textPath xlink:href=\"#arrow-9b0df13a27444818a7b5aaa30f77d7ff-0-1\" class=\"displacy-label\" startOffset=\"50%\" side=\"left\" fill=\"currentColor\" text-anchor=\"middle\">nummod</textPath>\n",
       "    </text>\n",
       "    <path class=\"displacy-arrowhead\" d=\"M420,266.5 L412,254.5 428,254.5\" fill=\"currentColor\"/>\n",
       "</g>\n",
       "\n",
       "<g class=\"displacy-arrow\">\n",
       "    <path class=\"displacy-arc\" id=\"arrow-9b0df13a27444818a7b5aaa30f77d7ff-0-2\" stroke-width=\"2px\" d=\"M595,264.5 C595,177.0 740.0,177.0 740.0,264.5\" fill=\"none\" stroke=\"currentColor\"/>\n",
       "    <text dy=\"1.25em\" style=\"font-size: 0.8em; letter-spacing: 1px\">\n",
       "        <textPath xlink:href=\"#arrow-9b0df13a27444818a7b5aaa30f77d7ff-0-2\" class=\"displacy-label\" startOffset=\"50%\" side=\"left\" fill=\"currentColor\" text-anchor=\"middle\">compound</textPath>\n",
       "    </text>\n",
       "    <path class=\"displacy-arrowhead\" d=\"M595,266.5 L587,254.5 603,254.5\" fill=\"currentColor\"/>\n",
       "</g>\n",
       "\n",
       "<g class=\"displacy-arrow\">\n",
       "    <path class=\"displacy-arc\" id=\"arrow-9b0df13a27444818a7b5aaa30f77d7ff-0-3\" stroke-width=\"2px\" d=\"M70,264.5 C70,2.0 750.0,2.0 750.0,264.5\" fill=\"none\" stroke=\"currentColor\"/>\n",
       "    <text dy=\"1.25em\" style=\"font-size: 0.8em; letter-spacing: 1px\">\n",
       "        <textPath xlink:href=\"#arrow-9b0df13a27444818a7b5aaa30f77d7ff-0-3\" class=\"displacy-label\" startOffset=\"50%\" side=\"left\" fill=\"currentColor\" text-anchor=\"middle\">dobj</textPath>\n",
       "    </text>\n",
       "    <path class=\"displacy-arrowhead\" d=\"M750.0,266.5 L758.0,254.5 742.0,254.5\" fill=\"currentColor\"/>\n",
       "</g>\n",
       "</svg></span>"
      ],
      "text/plain": [
       "<IPython.core.display.HTML object>"
      ]
     },
     "metadata": {},
     "output_type": "display_data"
    }
   ],
   "source": [
    "doc = nlp('Grease a 10-inch tube pan'.lower())\n",
    "for token in doc:\n",
    "    print(token.text,token.pos_, token.dep_, token.head.text, token.head.pos_,\n",
    "            [child for child in token.children], token.lemma_)\n",
    "displacy.render(doc, style=\"dep\")"
   ]
  },
  {
   "cell_type": "code",
   "execution_count": 295,
   "id": "comparable-honduras",
   "metadata": {},
   "outputs": [
    {
     "name": "stdout",
     "output_type": "stream",
     "text": [
      "a 10-inch tube pan pan dobj grease VERB\n"
     ]
    }
   ],
   "source": [
    "for chunk in doc.noun_chunks:\n",
    "    print(chunk.text, chunk.root.text, chunk.root.dep_,\n",
    "            chunk.root.head.text,chunk.root.head.pos_)"
   ]
  },
  {
   "cell_type": "code",
   "execution_count": null,
   "id": "boolean-emperor",
   "metadata": {},
   "outputs": [],
   "source": []
  },
  {
   "cell_type": "markdown",
   "id": "alternate-fetish",
   "metadata": {},
   "source": [
    "### Thing that could be tools\n",
    "#### 1) pattern: lemma: 'in',   "
   ]
  },
  {
   "cell_type": "code",
   "execution_count": 296,
   "id": "drawn-inquiry",
   "metadata": {},
   "outputs": [],
   "source": [
    "def find_tool(sentence):\n",
    "    pattern = [{\"LEMMA\":{\"IN\":['in','with']}},{\"POS\":'DET'},{\"POS\":'NOUN', 'OP':'+'}]\n",
    "    # tool_pattern = [{\"POS\":'NOUN', 'OP':'+'}]\n",
    "    tools = []\n",
    "    matcher = Matcher(nlp.vocab)\n",
    "    matcher.add('find', [pattern])\n",
    "    doc = nlp(sentence)\n",
    "    matches = matcher(doc)\n",
    "    if len(matches) != 0:\n",
    "        span = doc[matches[-1][1]:matches[-1][2]]\n",
    "        for token in span:\n",
    "            if token.pos_ == 'NOUN':\n",
    "                tools.append(token)\n",
    "    return tools\n",
    "find_tool('Heat butter in a pan over medium heat')\n",
    "def find_tool2(sentence):\n",
    "    in_list = ['in','into','on']\n",
    "    too =[]\n",
    "    not_tools = []\n",
    "    sent = nlp(sentence.lower())\n",
    "    for chunk in sent.noun_chunks:\n",
    "#         and chunk.root.head.pos_ != 'VERB' and not chunk.root.is_sent_start\n",
    "        if chunk.root.text not in new and chunk.root.head.text in in_list:\n",
    "            too.append(chunk.root.text)\n",
    "#     for token in sent:\n",
    "#         if token.text not in too and token.pos_ == 'NOUN':\n",
    "#             not_tools.append(token.text)\n",
    "    return too, not_tools\n",
    "        \n",
    "    "
   ]
  },
  {
   "cell_type": "code",
   "execution_count": 297,
   "id": "chicken-motel",
   "metadata": {},
   "outputs": [
    {
     "name": "stdout",
     "output_type": "stream",
     "text": [
      "Bring water, rice, and chicken bouillon to a boil in a saucepan.\n",
      "saucepan\n",
      "Reduce heat to medium-low, cover, and simmer until the rice is tender and liquid is absorbed, 20 to 25 minutes.\n",
      "\n",
      "Preheat oven to 350 degrees F (175 degrees C).\n",
      "Grease a 9x13-inch baking dish.\n",
      "\n",
      "Heat olive oil in a large skillet over medium heat; cook and stir zucchini, celery, and onion in hot oil until tender, about 5 minutes.\n",
      "skillet\n",
      "Stir rice, cream of mushroom soup, cream of mushroom soup with roasted garlic, water chestnuts, chicken, mayonnaise, and lemon juice into vegetable mixture.\n",
      "Transfer mixture to prepared baking dish.\n",
      "Spread French-fried onions over rice mixture.\n",
      "\n",
      "Bake in the preheated oven until bubbly and lightly browned, 30 to 35 minutes.\n",
      "\n",
      "oven\n",
      "['saucepan', 'skillet', 'oven']\n",
      "{}\n"
     ]
    }
   ],
   "source": [
    "tools = []\n",
    "\n",
    "for sentence in nlp(text).sents:\n",
    "    print(sentence)\n",
    "    t,nt = find_tool2(str(sentence))\n",
    "    for each in t:\n",
    "        print(each)\n",
    "#         if each not in big_not_tools:\n",
    "        tools.append(each)\n",
    "print(tools)\n",
    "print(big_not_tools)\n",
    "    \n",
    "    \n",
    "    "
   ]
  },
  {
   "cell_type": "code",
   "execution_count": null,
   "id": "limited-opportunity",
   "metadata": {},
   "outputs": [],
   "source": []
  },
  {
   "cell_type": "code",
   "execution_count": null,
   "id": "controversial-ending",
   "metadata": {},
   "outputs": [],
   "source": []
  }
 ],
 "metadata": {
  "kernelspec": {
   "display_name": "Python 3",
   "language": "python",
   "name": "python3"
  },
  "language_info": {
   "codemirror_mode": {
    "name": "ipython",
    "version": 3
   },
   "file_extension": ".py",
   "mimetype": "text/x-python",
   "name": "python",
   "nbconvert_exporter": "python",
   "pygments_lexer": "ipython3",
   "version": "3.8.5"
  }
 },
 "nbformat": 4,
 "nbformat_minor": 5
}
