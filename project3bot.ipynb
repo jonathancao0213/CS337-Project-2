{
 "cells": [
  {
   "cell_type": "code",
   "execution_count": 16,
   "metadata": {},
   "outputs": [],
   "source": [
    "def getStarted(inputStr):\n",
    "    global url\n",
    "    userInput = input(inputStr)\n",
    "    if \"recipe\" in userInput:\n",
    "        url = input(\"Sure. Please specify url: \")\n",
    "        getUrl()\n",
    "    else:\n",
    "        getStarted(\"Sorry, I only help with recipes. Type recipe if that's what you want: \")"
   ]
  },
  {
   "cell_type": "code",
   "execution_count": 17,
   "metadata": {},
   "outputs": [],
   "source": [
    "def getUrl():\n",
    "    global url\n",
    "    global title\n",
    "    if \"http\" in url:\n",
    "        loadIngredientsAndTitle()\n",
    "        #ingredient list, steps, title\n",
    "        print(\"Alright. So let's start cheffing up \" + title)\n",
    "        recipeHelper(\"What would you like to do? [1] go over ingredient list or [2] go over recipe steps\")\n",
    "    else:\n",
    "        url = input(\"Sorry, I can only read recipies from AllRecipies.com. Please enter a url: \")\n",
    "        getUrl()\n"
   ]
  },
  {
   "cell_type": "code",
   "execution_count": 21,
   "metadata": {},
   "outputs": [],
   "source": [
    "def recipeHelper(inputStr):\n",
    "    global ingredients\n",
    "    global steps\n",
    "    userInput = input(inputStr)\n",
    "    if '1' in userInput:\n",
    "        for ingredient in ingredients:\n",
    "            print(ingredient)\n",
    "    elif '2' in userInput:\n",
    "        #JUN AND JONATHAN: IMPLEMENT LOAD STEPS\n",
    "        #SHOULD CONTAIN AN ARRAY OF STEPS\n",
    "        #steps = loadSteps()\n",
    "        print(\"Step 1 \")\n",
    "    else:\n",
    "        recipeHelper(\"Please specify 1 or 2\")\n",
    "    \n",
    "        "
   ]
  },
  {
   "cell_type": "code",
   "execution_count": 22,
   "metadata": {},
   "outputs": [],
   "source": [
    "import requests\n",
    "import bs4\n",
    "from bs4 import BeautifulSoup as soup\n",
    "import json\n",
    "import pandas as pd\n",
    "from pandas import DataFrame\n",
    "\n",
    "def get_ld_json(url: str) -> dict:\n",
    "    parser = \"html.parser\"\n",
    "    req = requests.get(url)\n",
    "    page = soup(req.text, parser)\n",
    "    return json.loads(\"\".join(page.find(\"script\", {\"type\":\"application/ld+json\"}).contents))\n",
    "\n",
    "def loadIngredientsAndTitle():\n",
    "    global url\n",
    "    global ingredients\n",
    "    global title\n",
    "    jsonld = get_ld_json(url)\n",
    "    useful = jsonld[1]\n",
    "    ingredients = useful[\"recipeIngredient\"]\n",
    "    title = useful[\"name\"]"
   ]
  },
  {
   "cell_type": "code",
   "execution_count": 23,
   "metadata": {},
   "outputs": [
    {
     "name": "stdout",
     "output_type": "stream",
     "text": [
      "Hello, I am Joe. How can I help you today?: recipe\n",
      "Sure. Please specify url: https://www.allrecipes.com/recipe/277700/instant-pot-filipino-chicken-adobo/\n",
      "Alright. So let's start cheffing up Instant Pot® Filipino Chicken Adobo\n",
      "What would you like to do? [1] go over ingredient list or [2] go over recipe steps1\n",
      "½ cup distilled white vinegar\n",
      "¼ cup soy sauce\n",
      "2 tablespoons minced garlic\n",
      "1 tablespoon olive oil\n",
      "1 tablespoon brown sugar\n",
      "1 teaspoon black peppercorns, roughly cracked\n",
      "2 bay leaves\n",
      "1 large onion, sliced\n",
      "1 ½ pounds bone-in, skin-on chicken thighs\n",
      "1 tablespoon chopped scallions\n"
     ]
    }
   ],
   "source": [
    "ingredients = []\n",
    "steps = []\n",
    "url = ''\n",
    "getStarted(\"Hello, I am Joe. How can I help you today?: \")"
   ]
  },
  {
   "cell_type": "code",
   "execution_count": null,
   "metadata": {},
   "outputs": [],
   "source": [
    "# Main body\n",
    "# \"first\" -> 1, etc. dictionary\n",
    "#Cases:\n",
    "    #\"how\" -> specific keyword or general\n",
    "    #\"next\" or \"forward\"\n",
    "    #\"previous\" or \"back\"\n",
    "    # \"take\" or \"bring\" and \"step\" \n",
    "    "
   ]
  },
  {
   "cell_type": "code",
   "execution_count": null,
   "metadata": {},
   "outputs": [],
   "source": []
  }
 ],
 "metadata": {
  "kernelspec": {
   "display_name": "Python 3",
   "language": "python",
   "name": "python3"
  },
  "language_info": {
   "codemirror_mode": {
    "name": "ipython",
    "version": 3
   },
   "file_extension": ".py",
   "mimetype": "text/x-python",
   "name": "python",
   "nbconvert_exporter": "python",
   "pygments_lexer": "ipython3",
   "version": "3.8.3"
  }
 },
 "nbformat": 4,
 "nbformat_minor": 4
}
