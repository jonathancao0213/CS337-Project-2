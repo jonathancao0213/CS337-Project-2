{
 "cells": [
  {
   "cell_type": "code",
   "execution_count": 13,
   "metadata": {},
   "outputs": [],
   "source": [
    "def getStarted(inputStr):\n",
    "    global url\n",
    "    userInput = input(inputStr)\n",
    "    if \"recipe\" in userInput:\n",
    "        url = input(\"Sure. Please specify url: \")\n",
    "        getUrl()\n",
    "    else:\n",
    "        getStarted(\"Sorry, I only help with recipes. Type recipe if that's what you want: \")"
   ]
  },
  {
   "cell_type": "code",
   "execution_count": 14,
   "metadata": {},
   "outputs": [],
   "source": [
    "def getUrl():\n",
    "    global url\n",
    "    global title\n",
    "    if \"http\" in url:\n",
    "        loadIngredientsAndTitle()\n",
    "        #ingredient list, steps, title\n",
    "        print(\"Alright. So let's start cheffing up \" + title)\n",
    "        recipeHelper(\"What would you like to do? [1] go over ingredient list or [2] go over recipe steps\")\n",
    "    else:\n",
    "        url = input(\"Sorry, I can only read recipies from AllRecipies.com. Please enter a url: \")\n",
    "        getUrl()\n"
   ]
  },
  {
   "cell_type": "code",
   "execution_count": 15,
   "metadata": {},
   "outputs": [],
   "source": [
    "def recipeHelper(inputStr):\n",
    "    global ingredients\n",
    "    global steps\n",
    "    userInput = input(inputStr)\n",
    "    if '1' in userInput:\n",
    "        for ingredient in ingredients:\n",
    "            print(ingredient)\n",
    "        userInput = input(\"Would you like to go over recipe steps now?\")\n",
    "        if \"yes\" in userInput:\n",
    "            #steps = loadSteps()\n",
    "            mainBody(\"The first step is \" + steps[0])\n",
    "    elif '2' in userInput:\n",
    "        #JUN AND JONATHAN: IMPLEMENT LOAD STEPS\n",
    "        #SHOULD CONTAIN AN ARRAY OF STEPS\n",
    "        #steps = loadSteps()\n",
    "        \n",
    "        mainBody(\"The first step is \" + steps[0])\n",
    "    else:\n",
    "        recipeHelper(\"Please specify 1 or 2\")\n",
    "    \n",
    "        "
   ]
  },
  {
   "cell_type": "code",
   "execution_count": 16,
   "metadata": {},
   "outputs": [],
   "source": [
    "import requests\n",
    "import bs4\n",
    "from bs4 import BeautifulSoup as soup\n",
    "import json\n",
    "import pandas as pd\n",
    "from pandas import DataFrame\n",
    "\n",
    "def get_ld_json(url: str) -> dict:\n",
    "    parser = \"html.parser\"\n",
    "    req = requests.get(url)\n",
    "    page = soup(req.text, parser)\n",
    "    return json.loads(\"\".join(page.find(\"script\", {\"type\":\"application/ld+json\"}).contents))\n",
    "\n",
    "def loadIngredientsAndTitle():\n",
    "    global url\n",
    "    global ingredients\n",
    "    global title\n",
    "    jsonld = get_ld_json(url)\n",
    "    useful = jsonld[1]\n",
    "    ingredients = useful[\"recipeIngredient\"]\n",
    "    title = useful[\"name\"]"
   ]
  },
  {
   "cell_type": "code",
   "execution_count": 31,
   "metadata": {},
   "outputs": [],
   "source": [
    "ytSearch = \"https://www.youtube.com/results?search_query=\"\n",
    "    \n",
    "def mainBody(inputStr):\n",
    "    global currStep\n",
    "    userInput = input(inputStr)\n",
    "    if \"how\" in userInput:\n",
    "        #NEEDS TO BE IMPLEMENTED\n",
    "        #GET CORRECT PHRASE TO SEARCH AND APPEND TO YOUTUBE SEARCH LINK\n",
    "        searchLink = ytSearch + '' #need to add keywords\n",
    "        mainBody(\"Here's a reference for you: \")\n",
    "    elif \"next\" in userInput or \"forward\" in userInput or \"yes\" in userInput:\n",
    "        if currStep < len(steps) - 1:\n",
    "            currStep = currStep + 1\n",
    "            mainBody(\"The next step is \" + steps[currStep] + \" \")\n",
    "        else:\n",
    "            print(\"There is no next step! Congrats, the recipe is complete!\")\n",
    "    elif \"previous\" in userInput or \"back\" in userInput:\n",
    "        if currStep == 0:\n",
    "            mainBody(\"There is no previous instruction. Would you like the next step? \")\n",
    "        else:\n",
    "            currStep = currStep - 1\n",
    "            mainBody(\"The previous step is \" + steps[currStep])\n",
    "    elif \"step\" in userInput and \"take\" in userInput or \"bring\" in userInput or \"go\" in userInput:\n",
    "        found = False\n",
    "        for key in dictKeys:\n",
    "            if found == False and key in userInput or str(numDict[key]) in userInput:\n",
    "                found = True\n",
    "                stepWanted = numDict[key] - 1\n",
    "        if found:\n",
    "            if stepWanted < len(steps):\n",
    "                currStep = stepWanted\n",
    "                mainBody(\"Step \"+ str(currStep+1) + \" is \" + steps[currStep] + \" \")\n",
    "            else:\n",
    "                mainBody(\"That step doesn't exist in this recipe. Would you like the next step? \")\n",
    "        else:\n",
    "            mainBody(\"Sorry, I didn't get that. Would you like the next step? \")\n",
    "    elif \"ingredients\" in userInput:\n",
    "        print(\"Here are the ingredients\")\n",
    "        for ingredient in ingredients:\n",
    "            print(ingredient)\n",
    "        mainBody(\"Would you like the next step? \")\n",
    "    else:\n",
    "        mainBody(\"Would you like the next step? \")"
   ]
  },
  {
   "cell_type": "code",
   "execution_count": null,
   "metadata": {},
   "outputs": [],
   "source": [
    "ingredients = []\n",
    "steps = [\"step1\", \"step2\", \"step3\", \"step4\"]\n",
    "url = ''\n",
    "currStep = 0\n",
    "numDict = {\"first\":1, \"second\":2, \"third\":3, \"fourth\":4, \"fifth\":5, \"sixth\":6, \"seventh\":7, \"eighth\":8, \"ninth\":9,\n",
    "          \"tenth\":10, \"eleventh\":11, \"twelfth\":12, \"thirteenth\":13, \"fourteenth\":14, \"fiftheenth\":15}\n",
    "dictKeys = numDict.keys()\n",
    "getStarted(\"Hello, I am Joe. How can I help you today?: \")"
   ]
  },
  {
   "cell_type": "code",
   "execution_count": null,
   "metadata": {},
   "outputs": [],
   "source": []
  }
 ],
 "metadata": {
  "kernelspec": {
   "display_name": "Python 3",
   "language": "python",
   "name": "python3"
  },
  "language_info": {
   "codemirror_mode": {
    "name": "ipython",
    "version": 3
   },
   "file_extension": ".py",
   "mimetype": "text/x-python",
   "name": "python",
   "nbconvert_exporter": "python",
   "pygments_lexer": "ipython3",
   "version": "3.8.3"
  }
 },
 "nbformat": 4,
 "nbformat_minor": 4
}
